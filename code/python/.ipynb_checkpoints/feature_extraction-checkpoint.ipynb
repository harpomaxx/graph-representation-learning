{
 "cells": [
  {
   "cell_type": "code",
   "execution_count": 12,
   "id": "3ae68f74",
   "metadata": {},
   "outputs": [],
   "source": [
    "import igraph as ig\n",
    "import pandas as pd"
   ]
  },
  {
   "cell_type": "code",
   "execution_count": 2,
   "id": "7f1811b4",
   "metadata": {},
   "outputs": [],
   "source": [
    "g=ig.Graph()\n",
    "g=g.Read_Ncol(\"../../data/ncol/cap1_graph.ncol\", names=True, weights='if_present', directed=True)"
   ]
  },
  {
   "cell_type": "code",
   "execution_count": 3,
   "id": "40195939",
   "metadata": {},
   "outputs": [
    {
     "name": "stdout",
     "output_type": "stream",
     "text": [
      "IGRAPH DNW- 607565 1251265 -- \n",
      "+ attr: name (v), weight (e)\n"
     ]
    }
   ],
   "source": [
    "ig.summary(g)"
   ]
  },
  {
   "cell_type": "markdown",
   "id": "6b5ae381",
   "metadata": {},
   "source": [
    "## Feature calculations"
   ]
  },
  {
   "cell_type": "code",
   "execution_count": 4,
   "id": "67de229e",
   "metadata": {},
   "outputs": [],
   "source": [
    "ID=g.degree(mode=\"in\") \n",
    "OD=g.degree(mode=\"out\")\n",
    "IDW=g.strength(mode=\"in\",weights=\"weight\")\n",
    "ODW=g.strength(mode=\"out\",weights=\"weight\")\n",
    "LCC=g.transitivity_local_undirected(mode='zero') #There exists a Weighted alternative. In the paper they don't consider weights\n",
    "#Mode zero because we can't make use of nan in a column for ML.(Verify)\n"
   ]
  },
  {
   "cell_type": "code",
   "execution_count": 12,
   "id": "5fff487f",
   "metadata": {},
   "outputs": [
    {
     "ename": "NameError",
     "evalue": "name 'AC' is not defined",
     "output_type": "error",
     "traceback": [
      "\u001b[1;31m---------------------------------------------------------------------------\u001b[0m",
      "\u001b[1;31mNameError\u001b[0m                                 Traceback (most recent call last)",
      "\u001b[1;32m<ipython-input-12-c8b725298fd8>\u001b[0m in \u001b[0;36m<module>\u001b[1;34m\u001b[0m\n\u001b[1;32m----> 1\u001b[1;33m \u001b[0mAC\u001b[0m\u001b[1;33m\u001b[0m\u001b[1;33m\u001b[0m\u001b[0m\n\u001b[0m",
      "\u001b[1;31mNameError\u001b[0m: name 'AC' is not defined"
     ]
    }
   ],
   "source": [
    "AC"
   ]
  },
  {
   "cell_type": "code",
   "execution_count": null,
   "id": "2fd58614",
   "metadata": {},
   "outputs": [],
   "source": [
    "BC=g.betweenness(directed=True,weights=\"weight\")"
   ]
  },
  {
   "cell_type": "markdown",
   "id": "ffcca782",
   "metadata": {},
   "source": [
    "## CSV export"
   ]
  },
  {
   "cell_type": "code",
   "execution_count": 15,
   "id": "4e974612",
   "metadata": {},
   "outputs": [
    {
     "data": {
      "text/html": [
       "<div>\n",
       "<style scoped>\n",
       "    .dataframe tbody tr th:only-of-type {\n",
       "        vertical-align: middle;\n",
       "    }\n",
       "\n",
       "    .dataframe tbody tr th {\n",
       "        vertical-align: top;\n",
       "    }\n",
       "\n",
       "    .dataframe thead th {\n",
       "        text-align: right;\n",
       "    }\n",
       "</style>\n",
       "<table border=\"1\" class=\"dataframe\">\n",
       "  <thead>\n",
       "    <tr style=\"text-align: right;\">\n",
       "      <th></th>\n",
       "      <th>node</th>\n",
       "      <th>ID</th>\n",
       "      <th>OD</th>\n",
       "      <th>IDW</th>\n",
       "      <th>ODW</th>\n",
       "      <th>LCC</th>\n",
       "    </tr>\n",
       "  </thead>\n",
       "  <tbody>\n",
       "    <tr>\n",
       "      <th>0</th>\n",
       "      <td>0.0.0.0</td>\n",
       "      <td>0</td>\n",
       "      <td>1</td>\n",
       "      <td>0.0</td>\n",
       "      <td>743034.0</td>\n",
       "      <td>0.000000</td>\n",
       "    </tr>\n",
       "    <tr>\n",
       "      <th>1</th>\n",
       "      <td>255.255.255.255</td>\n",
       "      <td>6</td>\n",
       "      <td>0</td>\n",
       "      <td>843362.0</td>\n",
       "      <td>0.0</td>\n",
       "      <td>0.133333</td>\n",
       "    </tr>\n",
       "    <tr>\n",
       "      <th>2</th>\n",
       "      <td>00:00:00:00:00:00</td>\n",
       "      <td>0</td>\n",
       "      <td>4</td>\n",
       "      <td>0.0</td>\n",
       "      <td>3000.0</td>\n",
       "      <td>0.000000</td>\n",
       "    </tr>\n",
       "    <tr>\n",
       "      <th>3</th>\n",
       "      <td>00:0c:29:97:a3:eb</td>\n",
       "      <td>1</td>\n",
       "      <td>1</td>\n",
       "      <td>1200.0</td>\n",
       "      <td>360.0</td>\n",
       "      <td>0.000000</td>\n",
       "    </tr>\n",
       "    <tr>\n",
       "      <th>4</th>\n",
       "      <td>00:0c:29:9d:31:2f</td>\n",
       "      <td>1</td>\n",
       "      <td>0</td>\n",
       "      <td>1200.0</td>\n",
       "      <td>0.0</td>\n",
       "      <td>0.000000</td>\n",
       "    </tr>\n",
       "    <tr>\n",
       "      <th>...</th>\n",
       "      <td>...</td>\n",
       "      <td>...</td>\n",
       "      <td>...</td>\n",
       "      <td>...</td>\n",
       "      <td>...</td>\n",
       "      <td>...</td>\n",
       "    </tr>\n",
       "    <tr>\n",
       "      <th>607560</th>\n",
       "      <td>ff02::1:ff00:310</td>\n",
       "      <td>1</td>\n",
       "      <td>0</td>\n",
       "      <td>86.0</td>\n",
       "      <td>0.0</td>\n",
       "      <td>0.000000</td>\n",
       "    </tr>\n",
       "    <tr>\n",
       "      <th>607561</th>\n",
       "      <td>ff02::1:ff00:3a0</td>\n",
       "      <td>1</td>\n",
       "      <td>0</td>\n",
       "      <td>86.0</td>\n",
       "      <td>0.0</td>\n",
       "      <td>0.000000</td>\n",
       "    </tr>\n",
       "    <tr>\n",
       "      <th>607562</th>\n",
       "      <td>ff02::1:ffef:6697</td>\n",
       "      <td>1</td>\n",
       "      <td>0</td>\n",
       "      <td>86.0</td>\n",
       "      <td>0.0</td>\n",
       "      <td>0.000000</td>\n",
       "    </tr>\n",
       "    <tr>\n",
       "      <th>607563</th>\n",
       "      <td>fe80::d036:46ef:ad35:fc09</td>\n",
       "      <td>0</td>\n",
       "      <td>2</td>\n",
       "      <td>0.0</td>\n",
       "      <td>2654.0</td>\n",
       "      <td>0.000000</td>\n",
       "    </tr>\n",
       "    <tr>\n",
       "      <th>607564</th>\n",
       "      <td>fe80::f180:4f5c:7d4a:bbd7</td>\n",
       "      <td>0</td>\n",
       "      <td>2</td>\n",
       "      <td>0.0</td>\n",
       "      <td>2212.0</td>\n",
       "      <td>0.000000</td>\n",
       "    </tr>\n",
       "  </tbody>\n",
       "</table>\n",
       "<p>607565 rows × 6 columns</p>\n",
       "</div>"
      ],
      "text/plain": [
       "                             node  ID  OD       IDW       ODW       LCC\n",
       "0                         0.0.0.0   0   1       0.0  743034.0  0.000000\n",
       "1                 255.255.255.255   6   0  843362.0       0.0  0.133333\n",
       "2               00:00:00:00:00:00   0   4       0.0    3000.0  0.000000\n",
       "3               00:0c:29:97:a3:eb   1   1    1200.0     360.0  0.000000\n",
       "4               00:0c:29:9d:31:2f   1   0    1200.0       0.0  0.000000\n",
       "...                           ...  ..  ..       ...       ...       ...\n",
       "607560           ff02::1:ff00:310   1   0      86.0       0.0  0.000000\n",
       "607561           ff02::1:ff00:3a0   1   0      86.0       0.0  0.000000\n",
       "607562          ff02::1:ffef:6697   1   0      86.0       0.0  0.000000\n",
       "607563  fe80::d036:46ef:ad35:fc09   0   2       0.0    2654.0  0.000000\n",
       "607564  fe80::f180:4f5c:7d4a:bbd7   0   2       0.0    2212.0  0.000000\n",
       "\n",
       "[607565 rows x 6 columns]"
      ]
     },
     "execution_count": 15,
     "metadata": {},
     "output_type": "execute_result"
    }
   ],
   "source": [
    "df = pd.DataFrame()\n",
    "df['node']=g.vs['name']\n",
    "df['ID']=ID\n",
    "df['OD']=OD\n",
    "df['IDW']=IDW\n",
    "df['ODW']=ODW\n",
    "#df['BC']=BC\n",
    "df['LCC']=LCC\n",
    "#df['AC']=AC\n",
    "#df['label']=labels\n",
    "df"
   ]
  },
  {
   "cell_type": "code",
   "execution_count": 5,
   "id": "c37a78b1",
   "metadata": {},
   "outputs": [
    {
     "ename": "NameError",
     "evalue": "name 'df' is not defined",
     "output_type": "error",
     "traceback": [
      "\u001b[1;31m---------------------------------------------------------------------------\u001b[0m",
      "\u001b[1;31mNameError\u001b[0m                                 Traceback (most recent call last)",
      "\u001b[1;32m<ipython-input-5-113b7f008525>\u001b[0m in \u001b[0;36m<module>\u001b[1;34m\u001b[0m\n\u001b[1;32m----> 1\u001b[1;33m \u001b[0mdf\u001b[0m\u001b[1;33m.\u001b[0m\u001b[0mto_csv\u001b[0m\u001b[1;33m(\u001b[0m\u001b[1;34m'features.csv'\u001b[0m\u001b[1;33m)\u001b[0m\u001b[1;33m\u001b[0m\u001b[1;33m\u001b[0m\u001b[0m\n\u001b[0m",
      "\u001b[1;31mNameError\u001b[0m: name 'df' is not defined"
     ]
    }
   ],
   "source": [
    "df.to_csv('features.csv') #pay attention not to save the dataframe ids "
   ]
  },
  {
   "cell_type": "code",
   "execution_count": null,
   "id": "92417941",
   "metadata": {},
   "outputs": [],
   "source": []
  }
 ],
 "metadata": {
  "kernelspec": {
   "display_name": "Python 3",
   "language": "python",
   "name": "python3"
  },
  "language_info": {
   "codemirror_mode": {
    "name": "ipython",
    "version": 3
   },
   "file_extension": ".py",
   "mimetype": "text/x-python",
   "name": "python",
   "nbconvert_exporter": "python",
   "pygments_lexer": "ipython3",
   "version": "3.8.8"
  }
 },
 "nbformat": 4,
 "nbformat_minor": 5
}
