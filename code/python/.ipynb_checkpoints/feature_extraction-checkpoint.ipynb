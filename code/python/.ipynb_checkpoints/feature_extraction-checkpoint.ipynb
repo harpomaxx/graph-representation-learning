{
 "cells": [
  {
   "cell_type": "code",
   "execution_count": 1,
   "id": "3ae68f74",
   "metadata": {},
   "outputs": [],
   "source": [
    "import igraph as ig"
   ]
  },
  {
   "cell_type": "code",
   "execution_count": 2,
   "id": "7f1811b4",
   "metadata": {},
   "outputs": [],
   "source": [
    "g=ig.Graph()\n",
    "g=g.Read_Ncol(\"../../data/ncol/cap1_graph.ncol\", names=True, weights='if_present', directed=True)"
   ]
  },
  {
   "cell_type": "code",
   "execution_count": 3,
   "id": "40195939",
   "metadata": {},
   "outputs": [
    {
     "name": "stdout",
     "output_type": "stream",
     "text": [
      "IGRAPH DNW- 607565 1251265 -- \n",
      "+ attr: name (v), weight (e)\n"
     ]
    }
   ],
   "source": [
    "ig.summary(g)"
   ]
  },
  {
   "cell_type": "code",
   "execution_count": 4,
   "id": "67de229e",
   "metadata": {},
   "outputs": [],
   "source": [
    "ID=g.degree(mode=\"in\") \n",
    "OD=g.degree(mode=\"out\")\n",
    "IDW=g.strength(mode=\"in\",weights=\"weight\")\n",
    "ODW=g.strength(mode=\"out\",weights=\"weight\")"
   ]
  },
  {
   "cell_type": "code",
   "execution_count": null,
   "id": "2fd58614",
   "metadata": {},
   "outputs": [],
   "source": [
    "BC=g.betweenness(directed=True,weights=\"weight\")"
   ]
  },
  {
   "cell_type": "code",
   "execution_count": null,
   "id": "5fff487f",
   "metadata": {},
   "outputs": [],
   "source": []
  }
 ],
 "metadata": {
  "kernelspec": {
   "display_name": "Python 3",
   "language": "python",
   "name": "python3"
  },
  "language_info": {
   "codemirror_mode": {
    "name": "ipython",
    "version": 3
   },
   "file_extension": ".py",
   "mimetype": "text/x-python",
   "name": "python",
   "nbconvert_exporter": "python",
   "pygments_lexer": "ipython3",
   "version": "3.8.8"
  }
 },
 "nbformat": 4,
 "nbformat_minor": 5
}
