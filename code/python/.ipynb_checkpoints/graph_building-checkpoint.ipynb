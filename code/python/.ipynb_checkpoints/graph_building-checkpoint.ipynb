{
 "cells": [
  {
   "cell_type": "markdown",
   "id": "b5dcf5fe",
   "metadata": {},
   "source": [
    "## Filtrado de datos relevantes"
   ]
  },
  {
   "cell_type": "code",
   "execution_count": 1,
   "id": "8cc10a45",
   "metadata": {},
   "outputs": [],
   "source": [
    "import pandas as pd\n",
    "df=pd.read_csv('../../rawdata/ctu-13/capture20110810.binetflow.labels.gz')"
   ]
  },
  {
   "cell_type": "code",
   "execution_count": 2,
   "id": "7610d267",
   "metadata": {},
   "outputs": [],
   "source": [
    "df=df[[\"SrcAddr\",\"DstAddr\",\"TotBytes\",\"SrcBytes\"]]\n",
    "df[\"DstBytes\"]=df[\"TotBytes\"]-df[\"SrcBytes\"]\n",
    "df.drop('TotBytes',inplace=True, axis=1)"
   ]
  },
  {
   "cell_type": "markdown",
   "id": "3cabf764",
   "metadata": {},
   "source": [
    "## Asigna en cada comunicación la menor ip como el source address"
   ]
  },
  {
   "cell_type": "code",
   "execution_count": 3,
   "id": "e347cce2",
   "metadata": {},
   "outputs": [],
   "source": [
    "def ip_read(ip_str):\n",
    "    aux_str=ip_str \n",
    "    if aux_str.count(\":\")==5:#Para que ande ip_address para direcciones de 6 bytes\n",
    "        ip=int(ipaddress.ip_address('00:00:'+ip_str))\n",
    "    else:\n",
    "        ip=int(ipaddress.ip_address(ip_str))\n",
    "    return ip\n",
    "    \n",
    "    "
   ]
  },
  {
   "cell_type": "code",
   "execution_count": 4,
   "id": "179770b0",
   "metadata": {},
   "outputs": [],
   "source": [
    "import ipaddress\n",
    "idx=df['SrcAddr'].transform(ip_read)>df['DstAddr'].transform(ip_read) #Indice de los valores en los que src>dst\n",
    "\n",
    "aux=df[idx]['SrcBytes'].copy() #Reordena los bytes\n",
    "df.loc[idx,'SrcBytes']=df[idx]['DstBytes']\n",
    "df.loc[idx,'DstBytes']=aux\n",
    "\n",
    "aux=df[idx]['SrcAddr'].copy()  #Reordena los address\n",
    "df.loc[idx,'SrcAddr']=df[idx]['DstAddr']\n",
    "df.loc[idx,'DstAddr']=aux"
   ]
  },
  {
   "cell_type": "markdown",
   "id": "8577a3b3",
   "metadata": {},
   "source": [
    "## Agrupamiento comunicaciones que comparten emisor y receptor\n"
   ]
  },
  {
   "cell_type": "code",
   "execution_count": 5,
   "id": "26e7778d",
   "metadata": {},
   "outputs": [],
   "source": [
    "df_gb=df.groupby(['SrcAddr','DstAddr'])\n",
    "df_agg=df_gb.agg({\n",
    "    'SrcBytes':'sum',\n",
    "    'DstBytes':'sum'\n",
    "})\n",
    "df=df_agg.reset_index()\n"
   ]
  },
  {
   "cell_type": "markdown",
   "id": "b438b027",
   "metadata": {},
   "source": [
    "## Construcción del grafo"
   ]
  },
  {
   "cell_type": "code",
   "execution_count": 6,
   "id": "833409a7",
   "metadata": {},
   "outputs": [],
   "source": [
    "import igraph as ig\n"
   ]
  },
  {
   "cell_type": "code",
   "execution_count": 7,
   "id": "f24bc2fb",
   "metadata": {},
   "outputs": [],
   "source": [
    "df21=df[[\"SrcAddr\",\"DstAddr\",\"SrcBytes\"]].rename(columns={\"SrcBytes\":\"Bytes\"})#Aristas src a dst\n",
    "df22=df[[\"DstAddr\",\"SrcAddr\",\"DstBytes\"]].rename(columns={\"DstBytes\":\"Bytes\",\"DstAddr\":\"SrcAddr\",\"SrcAddr\":\"DstAddr\"})#Aristas dst a src\n",
    "df = pd.concat([df21,df22], axis=0)\n",
    "df=df.reset_index(drop=True)\n",
    "df.drop(df[df[\"Bytes\"]==0].index,inplace=True, axis=0)#Aristas de peso 0 removidas\n",
    "df=df.reset_index(drop=True)"
   ]
  },
  {
   "cell_type": "code",
   "execution_count": 8,
   "id": "fcec5d3c",
   "metadata": {},
   "outputs": [],
   "source": [
    "g = ig.Graph.DataFrame(df,directed=True)"
   ]
  },
  {
   "cell_type": "code",
   "execution_count": 9,
   "id": "0c6e0e54",
   "metadata": {},
   "outputs": [],
   "source": [
    "g.write_ncol(\"../../data/ncol/cap1_graph.ncol\", names=\"name\", weights='Bytes')"
   ]
  }
 ],
 "metadata": {
  "kernelspec": {
   "display_name": "Python 3",
   "language": "python",
   "name": "python3"
  },
  "language_info": {
   "codemirror_mode": {
    "name": "ipython",
    "version": 3
   },
   "file_extension": ".py",
   "mimetype": "text/x-python",
   "name": "python",
   "nbconvert_exporter": "python",
   "pygments_lexer": "ipython3",
   "version": "3.8.8"
  }
 },
 "nbformat": 4,
 "nbformat_minor": 5
}
