{
 "cells": [
  {
   "cell_type": "code",
   "execution_count": null,
   "metadata": {},
   "outputs": [],
   "source": [
    "!pip install spektral"
   ]
  },
  {
   "cell_type": "code",
   "execution_count": 1,
   "metadata": {},
   "outputs": [],
   "source": [
    "import os\n",
    "import numpy as np\n",
    "import pandas as pd\n",
    "from scipy import sparse\n",
    "import tensorflow as tf\n",
    "from tensorflow.keras.layers import Dense, Dropout,Input\n",
    "from tensorflow.keras.losses import CategoricalCrossentropy, BinaryCrossentropy\n",
    "from tensorflow.keras.metrics import categorical_accuracy\n",
    "from tensorflow.keras.models import Model\n",
    "from tensorflow.keras.optimizers import Adam\n",
    "from spektral.layers import GINConv,GCNConv #, GCSConv, GlobalAvgPool\n",
    "from spektral.utils.sparse import sp_matrix_to_sp_tensor\n",
    "from spektral.data import DisjointLoader, BatchLoader, Dataset, Graph\n",
    "#from spektral.transforms.normalize_adj import NormalizeAdj\n",
    "import gc\n",
    "import spektral.datasets\n",
    "from sklearn.preprocessing import OneHotEncoder, StandardScaler\n",
    "from spektral.models.gcn import GCN"
   ]
  },
  {
   "cell_type": "markdown",
   "metadata": {},
   "source": [
    "# Creamos clase CTU13"
   ]
  },
  {
   "cell_type": "markdown",
   "metadata": {},
   "source": [
    "Según https://graphneural.network/creating-dataset/ para crear un dataset propio hay que crear una clase e incluir un método `download` y uno `read`: si al querer leer los datos, no los encuentra en el path correspondiente, entonces los descarga.\n",
    "En nuestro caso, además, lo que hace la \"descarga\" es \"acomodar\" los datos a un formato propio de Spektral."
   ]
  },
  {
   "cell_type": "markdown",
   "metadata": {},
   "source": [
    "### UPDATES\n",
    "\n",
    "**UPDATE 1:** Agrego función que hace un one-hot encoding en los labels\n",
    "\n",
    "**UPDATE 2:** Agrego links a los archivos con los que genero la clase `CTU13` para que los puedan descargar."
   ]
  },
  {
   "cell_type": "code",
   "execution_count": 2,
   "metadata": {},
   "outputs": [],
   "source": [
    "def _normalize(x, norm=None):\n",
    "        \"\"\"\n",
    "        Copied from: https://github.com/danielegrattarola/spektral/blob/master/spektral/datasets/tudataset.py\n",
    "        \n",
    "        Apply one-hot encoding or z-score to a list of node features\n",
    "        \"\"\"\n",
    "        if norm == \"ohe\":\n",
    "            fnorm = OneHotEncoder(sparse_output=False, categories=\"auto\")\n",
    "        elif norm == \"zscore\":\n",
    "            fnorm = StandardScaler()\n",
    "        else:\n",
    "            return x\n",
    "        return fnorm.fit_transform(x)\n"
   ]
  },
  {
   "cell_type": "code",
   "execution_count": 3,
   "metadata": {},
   "outputs": [],
   "source": [
    "class CTU13(Dataset):\n",
    "\n",
    "    def __init__(self, **kwargs):\n",
    "        super().__init__(**kwargs)\n",
    "\n",
    "    def download(self):\n",
    "        os.mkdir(self.path)\n",
    "        \n",
    "        captures = [\"10\",\"11\",\"12\",\"15\",\"15-2\",\"16\",\"16-2\",\"16-3\",\"17\",\"18\",\"18-2\",\"19\",\"15-3\"]\n",
    "        \n",
    "        # para poder descargar los archivos con las features y los ncol de cada captura\n",
    "        features_links = [\"ktAgJS22kBXcMsT\", \n",
    "                          \"qfM8pjZgDi9EFfd\",\n",
    "                          \"34PWCn9JmdDA9HE\",\n",
    "                          \"YtcCmiNEyPiYB4Y\",\n",
    "                          \"D2HdaEZYcFz5ryt\",\n",
    "                          \"cTY262moFLGjtmn\",\n",
    "                          \"TbfPFbSKWqYqR7n\",\n",
    "                          \"s2GTjFz8rNxbs4z\",\n",
    "                          \"9dZPAENNACreDEK\",\n",
    "                          \"bwR2Zrky49JjtgA\",\n",
    "                          \"CmYc9JyBsHwzaYD\",\n",
    "                          \"TNSkGJcq2CPoFtM\",\n",
    "                          \"XwZFrQYzMLNJxAY\"\n",
    "        ]\n",
    "\n",
    "        ncol_links = [\"B5EBDnAr4z55cc9\",\n",
    "                      \"Pz4ba4jn3nCNgAp\",\n",
    "                      \"EbkwSBHyAkHmdHE\",\n",
    "                      \"ttyoxLc36s7ABCB\",\n",
    "                      \"R3b9fe25x6ncoaT\",\n",
    "                      \"wFZ72f9kL3XFki6\",\n",
    "                      \"7EcYp9ACPqkQqDs\",\n",
    "                      \"YcTZCARwKCY2jiB\",\n",
    "                      \"3cc8mcTZaEC9LGM\",\n",
    "                      \"NDgw4PwXAwQKgb2\",\n",
    "                      \"wY38ypkj7QSJYib\",\n",
    "                      \"dEZYJ84z53ozZZo\",\n",
    "                      \"NKdZfBX6DG9nB8o\"            \n",
    "        ]\n",
    "        \n",
    "        for i in range(len(captures)):\n",
    "            # x = nodes features (ID, OD, IDW, ODW)\n",
    "            # a = adjacency matrix\n",
    "            # y =labels\n",
    "            \n",
    "            # Read files with nodes features (csv file) and connections between nodes (ncol file)\n",
    "            x_tmp = pd.read_csv(f'https://nube.ingenieria.uncuyo.edu.ar/s/{features_links[i]}/download', sep=\",\", header=0)\n",
    "            a_tmp = pd.read_csv(f'https://nube.ingenieria.uncuyo.edu.ar/s/{ncol_links[i]}/download', sep=\" \", header=None, names=[\"source\", \"target\", \"weight\"])\n",
    "            \n",
    "            # Create dictionaries that identify each node and label with an integer\n",
    "            class_idx = {name: idx for idx, name in enumerate(sorted(x_tmp[\"label\"].unique()))}\n",
    "            node_idx = {name: idx for idx, name in enumerate(sorted(x_tmp[\"node\"].unique()))}\n",
    "            \n",
    "            # Change node names and label for their corresponding integer\n",
    "            x_tmp[\"node\"] = x_tmp[\"node\"].apply(lambda name: node_idx[name])\n",
    "            x_tmp[\"label\"] = x_tmp[\"label\"].apply(lambda value: class_idx[value])\n",
    "            a_tmp[\"source\"] = a_tmp[\"source\"].apply(lambda name: node_idx[name])\n",
    "            a_tmp[\"target\"] = a_tmp[\"target\"].apply(lambda name: node_idx[name])\n",
    "            \n",
    "            # Node features:\n",
    "            x = x_tmp.sort_values(\"node\")[x_tmp.columns.difference([\"node\",\"label\"], sort=False)].to_numpy()       \n",
    "            x = x.astype(np.float32)                \n",
    "            \n",
    "            # Separate source, target and weight to create a sparce matrix\n",
    "            a_source = a_tmp[[\"source\"]].to_numpy().T\n",
    "            a_source = np.reshape(a_source, a_source.shape[-1])\n",
    "            a_target = a_tmp[[\"target\"]].to_numpy().T\n",
    "            a_target = np.reshape(a_target, a_target.shape[-1])\n",
    "            a_weight = a_tmp[[\"weight\"]].to_numpy().T\n",
    "            a_weight = np.reshape(a_weight, a_weight.shape[-1])\n",
    "            # Adjacency matrix:\n",
    "            #a = sparse.coo_matrix((a_weight, (a_source, a_target)), shape=(x.shape[0], x.shape[0]))\n",
    "            a = sparse.csr_matrix((a_weight, (a_source, a_target)), shape=(x.shape[0], x.shape[0]), dtype=np.float32)\n",
    "\n",
    "            # Label:\n",
    "            y = x_tmp.sort_values(\"node\")[\"label\"].to_numpy()\n",
    "            #y = y.astype(np.int64)\n",
    "            y = y.astype(np.float32)\n",
    "            y = _normalize(y[:, None], \"ohe\") #one-hot encoding\n",
    "            \n",
    "            # Save in format npz\n",
    "            filename = os.path.join(self.path, f'graph_201108{captures[i]}.npz')\n",
    "            np.savez(filename, x=x, a=a, y=y)\n",
    "\n",
    "            # Free memory\n",
    "            del x_tmp, x, a_tmp, a_source, a_target, a_weight, a, y\n",
    "            gc.collect()\n",
    "\n",
    "\n",
    "    def read(self):\n",
    "        # We must return a list of Graph objects\n",
    "        output = []\n",
    "        \n",
    "        captures = [\"10\",\"11\",\"12\",\"15\",\"15-2\",\"16\",\"16-2\",\"16-3\",\"17\",\"18\",\"18-2\",\"19\",\"15-3\"]\n",
    "\n",
    "        for i in captures:\n",
    "            data = np.load(os.path.join(self.path, f'graph_201108{i}.npz'), allow_pickle=True)\n",
    "            output.append(\n",
    "                Graph(x=data['x'], a=data['a'][()], y=data['y']) # también puede ser a=data['a'].item()\n",
    "            )\n",
    "\n",
    "        return output\n",
    "    \n",
    "    \n"
   ]
  },
  {
   "cell_type": "markdown",
   "metadata": {},
   "source": [
    "# Cargamos el dataset\n",
    "\n",
    "Separamos en train, validation, test"
   ]
  },
  {
   "cell_type": "code",
   "execution_count": 4,
   "metadata": {},
   "outputs": [],
   "source": [
    "dataset = CTU13()"
   ]
  },
  {
   "cell_type": "code",
   "execution_count": 4,
   "metadata": {},
   "outputs": [],
   "source": [
    "## MEZCLAR LAS CAPTURAS CONDUCE A UN ERROR. QUEDA COMENTADO POR EL MOMENTO\n",
    "\n",
    "## capture number 9 (capture20110817) is for testing\n",
    "#dataset_test = dataset[8]\n",
    "\n",
    "## other captures are for training\n",
    "#np.random.seed(123)\n",
    "#dataset_tosplit = dataset[np.random.choice([0,1,2,3,4,5,6,7,9,10,11,12], 12, replace=False)]\n",
    "\n",
    "## split in training and validation\n",
    "#split = int(0.8 * len(dataset_tosplit))\n",
    "#dataset_train, dataset_val = dataset_tosplit[:split], dataset_tosplit[split:]"
   ]
  },
  {
   "cell_type": "code",
   "execution_count": 5,
   "metadata": {},
   "outputs": [],
   "source": [
    "## CAPTURAS SIN MEZCLAR\n",
    "\n",
    "dataset_test = dataset[8:9] # capture number 9 for testing (20110817)\n",
    "dataset_test_Tati = dataset[10:11] # capture number 11 for external validation (20110818-2)\n",
    "\n",
    "dataset_tosplit = dataset[0,1,2,3,4,5,6,7,9,11,12]\n",
    "split = int(0.8 * len(dataset_tosplit))\n",
    "dataset_train, dataset_val = dataset_tosplit[:split], dataset_tosplit[split:]"
   ]
  },
  {
   "cell_type": "code",
   "execution_count": 6,
   "metadata": {},
   "outputs": [
    {
     "data": {
      "text/plain": [
       "Graph(n_nodes=605195, n_node_features=4, n_edge_features=None, n_labels=2)"
      ]
     },
     "execution_count": 6,
     "metadata": {},
     "output_type": "execute_result"
    }
   ],
   "source": [
    "dataset[0]"
   ]
  },
  {
   "cell_type": "markdown",
   "metadata": {},
   "source": [
    "# Data loaders"
   ]
  },
  {
   "cell_type": "code",
   "execution_count": 6,
   "metadata": {},
   "outputs": [],
   "source": [
    "# Data loaders\n",
    "batch_size = 1\n",
    "epochs = 20\n",
    "loader_train = DisjointLoader(dataset_train, node_level=True, batch_size=batch_size, epochs=epochs, shuffle=False)\n",
    "loader_val = DisjointLoader(dataset_val, node_level=True, batch_size=batch_size, shuffle=False)\n",
    "loader_test = DisjointLoader(dataset_test, node_level=True, batch_size=batch_size, shuffle=False)\n",
    "loader_test_Tati = DisjointLoader(dataset_test_Tati, node_level=True, batch_size=batch_size, shuffle=False)"
   ]
  },
  {
   "cell_type": "markdown",
   "metadata": {},
   "source": [
    "# Copia del código de Harpo\n",
    "Lo que sigue es copia directa (o sea, sin pensar) de lo que subió Harpo en https://github.com/harpomaxx/graph-representation-learning/blob/harpo-branch-pkts/code/python/notebooks/spektral-example.ipynb\n",
    "\n",
    "Da error, lo próximo que voy a analizar es ver si ese error tiene que ver con que sean problemas diferentes (en el ejemplo de Harpo el objetivo es clasificar grafos, en el problema de CTU13 el objetivo es clasificar nodos).\n",
    "\n",
    "El error dice \"ValueError: Shapes (None, 106580) and (None, 605195) are incompatible\". \n",
    "\n",
    "A tener en cuenta: capture20110816 tiene 106580 nodos, mientras que capture20110810 tiene 604195 nodos"
   ]
  },
  {
   "cell_type": "markdown",
   "metadata": {},
   "source": [
    "### UPDATES"
   ]
  },
  {
   "cell_type": "markdown",
   "metadata": {},
   "source": [
    "**UPDATE:** el error sobre `shapes` al parecer se debía a que no le estaba pasando correctamente las etiquetas.\n",
    "Esperaba un array de forma `[n_nodes,n_labels]`, donde en este caso `n_labels=2` y yo le estaba pasando `n_labels` como si fuera `n_nodes`.\n",
    "\n",
    "Ahora se desprende otro error de una multiplicación de matrices cuando `batch_size=1`:\n",
    "```\n",
    "Node: 'gradient_tape/model/dense/MatMul/MatMul_1'\n",
    "Matrix size-incompatible: In[0]: [1,32], In[1]: [605195,2]\n",
    "\t [[{{node gradient_tape/model/dense/MatMul/MatMul_1}}]] [Op:__inference_train_step_1155]\n",
    "```\n",
    "\n",
    "Y otro error diferente cuando `batch_size=10`:\n",
    "```\n",
    "Node: 'categorical_crossentropy/softmax_cross_entropy_with_logits'\n",
    "logits and labels must be broadcastable: logits_size=[9,2] labels_size=[2424993,2]\n",
    "\t [[{{node categorical_crossentropy/softmax_cross_entropy_with_logits}}]] [Op:__inference_train_step_1155]\n",
    "```"
   ]
  },
  {
   "cell_type": "markdown",
   "metadata": {},
   "source": [
    "**UPDATE 2:**\n",
    "\n",
    "El modelo `create_gcn_model` no anda (problemas con las dimensiones... tiene sentido porque la capa densa tiene dos neuronas, y lo que nosotros queremos es que prediga la clase para cada nodo. No sé cómo podría modificarlo para que eso depdenda de cada grafo).\n",
    "\n",
    "Por el contrario, lo que hice fue ignorar la función `create_gcn_model` y utilizar directamente el modelo `GCN` de spektral, y con eso al menos empezó a entrenar!!\n",
    "\n",
    "También modifiqué la loss por una `BinaryCrossentropy`.\n",
    "\n",
    "Ahora hay que ver qué está haciendo el modelo y qué tan bien anda..."
   ]
  },
  {
   "cell_type": "code",
   "execution_count": 7,
   "metadata": {},
   "outputs": [],
   "source": [
    "## IGNORAR ESTA FUNCION\n",
    "\n",
    "def create_gcn_model():\n",
    "    # Define input placeholders for node features, adjacency matrix, and segment indices\n",
    "    X_in = Input(shape=(dataset.n_node_features,))\n",
    "    A_in = Input((None,), sparse=True)\n",
    "    I_in = Input(shape=(), dtype=tf.int32)\n",
    "\n",
    "    # Apply the first GINConv layer with 32 units and ReLU activation\n",
    "    X_1 = GINConv(32, activation=\"relu\")([X_in, A_in])\n",
    "    # Apply dropout with a rate of 0.5\n",
    "    X_1 = Dropout(0.5)(X_1)\n",
    "    print(X_1.shape)\n",
    "\n",
    "    # Apply the second GINConv layer with 32 units and ReLU activation\n",
    "    X_2 = GINConv(32, activation=\"relu\")([X_1, A_in])\n",
    "    # Apply dropout with a rate of 0.5\n",
    "    X_2 = Dropout(0.5)(X_2)\n",
    "    print(X_2.shape)\n",
    "\n",
    "    # Aggregate the node features using the segment_mean function and the segment indices\n",
    "    X_3 = tf.math.segment_mean(X_2, I_in)\n",
    "    print(X_3.shape)\n",
    "    # Apply a dense output layer with the number of labels and softmax activation\n",
    "    out = Dense(dataset.n_labels, activation=\"softmax\")(X_3)\n",
    "    print(out.shape)\n",
    "\n",
    "    # Create and return the model with the defined inputs and outputs\n",
    "    model = Model(inputs=[X_in, A_in, I_in], outputs=out)\n",
    "    return model\n"
   ]
  },
  {
   "cell_type": "code",
   "execution_count": 7,
   "metadata": {
    "scrolled": true
   },
   "outputs": [],
   "source": [
    "#model = create_gcn_model()\n",
    "model = GCN(n_labels=dataset.n_labels)\n",
    "optimizer = Adam(learning_rate=0.01)\n",
    "#loss_fn = CategoricalCrossentropy()\n",
    "loss_fn = tf.keras.losses.BinaryCrossentropy(from_logits=False)"
   ]
  },
  {
   "cell_type": "code",
   "execution_count": 8,
   "metadata": {},
   "outputs": [],
   "source": [
    "# Decorate the function with @tf.function to compile as a TensorFlow graph\n",
    "# Use the input_signature from loader_train and relax shapes for varying graph sizes\n",
    "@tf.function(input_signature=loader_train.tf_signature(), experimental_relax_shapes=True)\n",
    "def train_step(inputs, target):\n",
    "    print(\"target:\",str(target))\n",
    "    # Create a GradientTape context to record operations for automatic differentiation\n",
    "    with tf.GradientTape() as tape:\n",
    "        # Compute model predictions with the inputs, set training=True for training-specific behaviors\n",
    "        predictions = model(inputs, training=True)\n",
    "        print(\"pred:\",str(predictions))\n",
    "        #predictions = tf.argmax(predictions1,axis=1)\n",
    "        # Calculate the loss using the provided loss_fn and add the model's regularization losses\n",
    "        loss = loss_fn(target, predictions) + sum(model.losses)\n",
    "\n",
    "    # Compute gradients of the loss with respect to the model's trainable variables\n",
    "    gradients = tape.gradient(loss, model.trainable_variables)\n",
    "    # Apply the gradients to the model's variables using the optimizer's apply_gradients method\n",
    "    optimizer.apply_gradients(zip(gradients, model.trainable_variables))\n",
    "\n",
    "    # Compute the accuracy using the categorical_accuracy function from TensorFlow\n",
    "    # Calculate the mean accuracy using tf.reduce_mean\n",
    "    acc = tf.reduce_mean(categorical_accuracy(target, predictions))\n",
    "\n",
    "    # Return the loss and accuracy as output\n",
    "    return loss, acc\n"
   ]
  },
  {
   "cell_type": "code",
   "execution_count": 9,
   "metadata": {},
   "outputs": [],
   "source": [
    "def evaluate(loader):\n",
    "    output = []\n",
    "    step = 0\n",
    "    while step < loader.steps_per_epoch:\n",
    "        step += 1\n",
    "        inputs, target = loader.__next__()\n",
    "        pred = model(inputs, training=False)\n",
    "        outs = (\n",
    "            loss_fn(target, pred),\n",
    "            tf.reduce_mean(categorical_accuracy(target, pred)),\n",
    "            len(target),  # Keep track of batch size\n",
    "        )\n",
    "        output.append(outs)\n",
    "        if step == loader.steps_per_epoch:\n",
    "            output = np.array(output)\n",
    "            return np.average(output[:, :-1], 0, weights=output[:, -1])\n"
   ]
  },
  {
   "cell_type": "code",
   "execution_count": 10,
   "metadata": {
    "scrolled": true
   },
   "outputs": [
    {
     "name": "stdout",
     "output_type": "stream",
     "text": [
      "target: Tensor(\"target:0\", shape=(None, 2), dtype=float64)\n",
      "pred: Tensor(\"gcn/gcn_conv_1/Softmax:0\", shape=(None, 2), dtype=float32)\n",
      "target: Tensor(\"target:0\", shape=(None, 2), dtype=float64)\n",
      "pred: Tensor(\"gcn/gcn_conv_1/Softmax:0\", shape=(None, 2), dtype=float32)\n",
      "Ep. 0 - Loss: 39539162742784.000 - Acc: 0.826 - Val loss: 18190060853.425 - Val acc: 0.935\n",
      "Ep. 1 - Loss: 18862703640576.000 - Acc: 0.921 - Val loss: 4849618959.761 - Val acc: 0.935\n",
      "Ep. 2 - Loss: 20883594805248.000 - Acc: 0.914 - Val loss: 5185095309.049 - Val acc: 0.935\n",
      "Ep. 3 - Loss: 2807744692224.000 - Acc: 0.921 - Val loss: 5304629845.518 - Val acc: 0.935\n",
      "Ep. 4 - Loss: 17491372802048.000 - Acc: 0.924 - Val loss: 5221296716.466 - Val acc: 0.935\n",
      "Ep. 5 - Loss: 1316098670592.000 - Acc: 0.923 - Val loss: 5664719626.187 - Val acc: 0.935\n",
      "Ep. 6 - Loss: 19791110733824.000 - Acc: 0.923 - Val loss: 6471750873.097 - Val acc: 0.935\n",
      "Ep. 7 - Loss: 2389053800448.000 - Acc: 0.923 - Val loss: 7143394094.935 - Val acc: 0.935\n",
      "Ep. 8 - Loss: 441774735360.000 - Acc: 0.926 - Val loss: 7438884279.506 - Val acc: 0.935\n",
      "Ep. 9 - Loss: 747859410944.000 - Acc: 0.926 - Val loss: 7583070718.788 - Val acc: 0.935\n",
      "Ep. 10 - Loss: 34742128640.000 - Acc: 0.925 - Val loss: 7727602471.955 - Val acc: 0.935\n",
      "Ep. 11 - Loss: 28487483392.000 - Acc: 0.925 - Val loss: 7827820819.878 - Val acc: 0.935\n",
      "Ep. 12 - Loss: 958685708288.000 - Acc: 0.925 - Val loss: 7787426133.627 - Val acc: 0.935\n",
      "Ep. 13 - Loss: 218046070784.000 - Acc: 0.925 - Val loss: 7748026566.500 - Val acc: 0.935\n",
      "Ep. 14 - Loss: 61313523712.000 - Acc: 0.925 - Val loss: 7621811209.880 - Val acc: 0.935\n",
      "Ep. 15 - Loss: 36601991168.000 - Acc: 0.925 - Val loss: 7557012087.132 - Val acc: 0.935\n",
      "Ep. 16 - Loss: 78674280448.000 - Acc: 0.925 - Val loss: 7430888637.770 - Val acc: 0.935\n",
      "Ep. 17 - Loss: 9921275904.000 - Acc: 0.925 - Val loss: 7358041312.179 - Val acc: 0.935\n",
      "Ep. 18 - Loss: 31105247232.000 - Acc: 0.926 - Val loss: 7304991105.724 - Val acc: 0.935\n"
     ]
    }
   ],
   "source": [
    "# Initialize the epoch and step counters to -1\n",
    "# Create an empty list for storing training results\n",
    "epoch = step = -1\n",
    "results = []\n",
    "\n",
    "# Iterate through the batches in the loader_train data loader\n",
    "for batch in loader_train:\n",
    "    # Increment the step counter\n",
    "    step += 1\n",
    "\n",
    "    # Execute the train_step function with the current batch\n",
    "    # Obtain the loss and accuracy\n",
    "    loss, acc = train_step(*batch)\n",
    "\n",
    "    # Append the loss and accuracy to the results list\n",
    "    results.append((loss, acc))\n",
    "\n",
    "    # Check if the current step is equal to the number of steps per epoch (loader_train.steps_per_epoch)\n",
    "    if step == loader_train.steps_per_epoch:\n",
    "        # Reset the step counter to 0\n",
    "        # Increment the epoch counter\n",
    "        step = 0\n",
    "        epoch += 1\n",
    "\n",
    "        # Evaluate the model on the test set using the evaluate function (which should be defined beforehand)\n",
    "        # Store the test results in results_te\n",
    "        results_te = evaluate(loader_val) # CAMBIO A loader_val\n",
    "\n",
    "        # Print the epoch number, mean training loss and accuracy, and test loss and accuracy\n",
    "        print(\n",
    "            \"Ep. {} - Loss: {:.3f} - Acc: {:.3f} - Val loss: {:.3f} - Val acc: {:.3f}\".format(\n",
    "                epoch, *np.mean(results, 0), *results_te\n",
    "            )\n",
    "        )\n",
    "\n",
    "        # Reset the results list to start collecting results for the next epoch\n",
    "        results = []\n"
   ]
  },
  {
   "cell_type": "code",
   "execution_count": null,
   "metadata": {},
   "outputs": [],
   "source": []
  }
 ],
 "metadata": {
  "kernelspec": {
   "display_name": "Python 3",
   "language": "python",
   "name": "python3"
  },
  "language_info": {
   "codemirror_mode": {
    "name": "ipython",
    "version": 3
   },
   "file_extension": ".py",
   "mimetype": "text/x-python",
   "name": "python",
   "nbconvert_exporter": "python",
   "pygments_lexer": "ipython3",
   "version": "3.8.10"
  }
 },
 "nbformat": 4,
 "nbformat_minor": 2
}
