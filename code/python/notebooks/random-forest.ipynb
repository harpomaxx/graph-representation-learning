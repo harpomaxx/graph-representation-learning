{
 "cells": [
  {
   "cell_type": "code",
   "execution_count": 1,
   "metadata": {},
   "outputs": [
    {
     "name": "stdout",
     "output_type": "stream",
     "text": [
      "Requirement already satisfied: scikit-learn in /usr/local/lib/python3.8/dist-packages (1.2.2)\n",
      "Requirement already satisfied: numpy>=1.17.3 in /usr/local/lib/python3.8/dist-packages (from scikit-learn) (1.23.4)\n",
      "Requirement already satisfied: joblib>=1.1.1 in /usr/local/lib/python3.8/dist-packages (from scikit-learn) (1.2.0)\n",
      "Requirement already satisfied: scipy>=1.3.2 in /usr/local/lib/python3.8/dist-packages (from scikit-learn) (1.10.1)\n",
      "Requirement already satisfied: threadpoolctl>=2.0.0 in /usr/local/lib/python3.8/dist-packages (from scikit-learn) (3.1.0)\n",
      "\u001b[33mWARNING: You are using pip version 20.2.4; however, version 23.1.2 is available.\n",
      "You should consider upgrading via the '/usr/bin/python3 -m pip install --upgrade pip' command.\u001b[0m\n"
     ]
    }
   ],
   "source": [
    "!pip install scikit-learn "
   ]
  },
  {
   "cell_type": "code",
   "execution_count": 2,
   "metadata": {},
   "outputs": [
    {
     "name": "stdout",
     "output_type": "stream",
     "text": [
      "Requirement already satisfied: pandas in /usr/local/lib/python3.8/dist-packages (1.5.3)\n",
      "Requirement already satisfied: python-dateutil>=2.8.1 in /usr/local/lib/python3.8/dist-packages (from pandas) (2.8.2)\n",
      "Requirement already satisfied: numpy>=1.20.3; python_version < \"3.10\" in /usr/local/lib/python3.8/dist-packages (from pandas) (1.23.4)\n",
      "Requirement already satisfied: pytz>=2020.1 in /usr/local/lib/python3.8/dist-packages (from pandas) (2023.3)\n",
      "Requirement already satisfied: six>=1.5 in /usr/lib/python3/dist-packages (from python-dateutil>=2.8.1->pandas) (1.14.0)\n",
      "\u001b[33mWARNING: You are using pip version 20.2.4; however, version 23.1.2 is available.\n",
      "You should consider upgrading via the '/usr/bin/python3 -m pip install --upgrade pip' command.\u001b[0m\n"
     ]
    }
   ],
   "source": [
    "!pip install pandas"
   ]
  },
  {
   "cell_type": "code",
   "execution_count": 1,
   "metadata": {},
   "outputs": [],
   "source": [
    "import pandas as pd\n",
    "import numpy as np\n",
    "\n",
    "from sklearn.datasets import load_breast_cancer\n",
    "from sklearn.model_selection import train_test_split\n",
    "from sklearn.ensemble import RandomForestClassifier\n",
    "from sklearn.metrics import accuracy_score, confusion_matrix, classification_report\n"
   ]
  },
  {
   "cell_type": "markdown",
   "metadata": {},
   "source": [
    "## La previa"
   ]
  },
  {
   "cell_type": "code",
   "execution_count": 6,
   "metadata": {},
   "outputs": [],
   "source": [
    "captures = [\"10\",\"11\",\"12\",\"15\",\"15-2\",\"16\",\"16-2\",\"16-3\",\"17\",\"18\",\"18-2\",\"19\",\"15-3\"]\n",
    "        \n",
    "# para poder descargar los archivos con las features y los ncol de cada captura\n",
    "features_links = [\"ktAgJS22kBXcMsT\", \n",
    "                    \"qfM8pjZgDi9EFfd\",\n",
    "                    \"34PWCn9JmdDA9HE\",\n",
    "                    \"YtcCmiNEyPiYB4Y\",\n",
    "                    \"D2HdaEZYcFz5ryt\",\n",
    "                    \"cTY262moFLGjtmn\",\n",
    "                    \"TbfPFbSKWqYqR7n\",\n",
    "                    \"s2GTjFz8rNxbs4z\",\n",
    "                    \"9dZPAENNACreDEK\",\n",
    "                    \"bwR2Zrky49JjtgA\",\n",
    "                    \"CmYc9JyBsHwzaYD\",\n",
    "                    \"TNSkGJcq2CPoFtM\",\n",
    "                    \"XwZFrQYzMLNJxAY\"\n",
    "]\n",
    "\n",
    "for i in range(len(captures)):\n",
    "    x_tmp = pd.read_csv(f'https://nube.ingenieria.uncuyo.edu.ar/s/{features_links[i]}/download', sep=\",\", header=0)\n",
    "    x = x_tmp.iloc[:,0:5]\n",
    "    y_tmp = []\n",
    "    for j in range(x_tmp.shape[0]):\n",
    "        if (x.iloc[j,4] > 2):\n",
    "            y_tmp.append(\"infected\")\n",
    "        else:\n",
    "            y_tmp.append(\"normal\")\n",
    "    y = pd.DataFrame(y_tmp,columns=[\"label\"])\n",
    "    xy = pd.concat([x, y], axis=1)\n",
    "    xy.to_csv(f'/mnt/RF/capture201108{captures[i]}_paraRF.csv', sep=\",\", index=False)"
   ]
  },
  {
   "cell_type": "code",
   "execution_count": 14,
   "metadata": {},
   "outputs": [],
   "source": [
    "x_tmp = pd.read_csv(\"https://nube.ingenieria.uncuyo.edu.ar/s/ktAgJS22kBXcMsT/download\", sep=\",\", header=0)"
   ]
  },
  {
   "cell_type": "code",
   "execution_count": 15,
   "metadata": {},
   "outputs": [],
   "source": [
    "x = x_tmp.iloc[:,0:5]"
   ]
  },
  {
   "cell_type": "code",
   "execution_count": 22,
   "metadata": {},
   "outputs": [
    {
     "data": {
      "text/plain": [
       "0"
      ]
     },
     "execution_count": 22,
     "metadata": {},
     "output_type": "execute_result"
    }
   ],
   "source": [
    "x.iloc[0,3]"
   ]
  },
  {
   "cell_type": "code",
   "execution_count": null,
   "metadata": {},
   "outputs": [],
   "source": [
    "# En R, junté todas las capturas (para después hacer el diccionario node_idx)\n",
    "# En R, junté las capturas que me interesan para entrenar\n",
    "\n",
    "\n",
    "# df_features <- readr::read_csv(\"capture20110810_paraRF.csv\", show_col_types = FALSE)\n",
    "# aux = c(\"20110811\", \"20110812\", \"20110815\", \"20110815-2\", \"20110816\", \"20110816-2\", \"20110816-3\", \"20110817\", \"20110818\", \"20110818-2\", \"20110819\", \"20110815-3\")\n",
    "# i = 2\n",
    "# for (date in aux) {\n",
    "#     cap_features <- readr::read_csv(paste(\"capture\", date, \"_paraRF.csv\", sep = \"\"), show_col_types = FALSE)\n",
    "#     df_features <- dplyr::bind_rows(df_features, cap_features)\n",
    "#     i <- i + 1\n",
    "# }\n",
    "\n",
    "# readr::write_csv(df_features, \"all_captures_FEATURES.pkts.SINnorm.csv\")\n",
    "        \n",
    "# ###################\n",
    "\n",
    "# df_features <- readr::read_csv(\"capture20110810_paraRF.csv\", show_col_types = FALSE)\n",
    "\n",
    "# # Captures in order from 2nd to 13th\n",
    "# aux = c(\"20110811\", \"20110812\", \"20110815\", \"20110815-2\", \"20110816\", \"20110816-2\", \"20110816-3\", \"20110817\", \"20110818\", \"20110818-2\", \"20110819\", \"20110815-3\")\n",
    "\n",
    "# for (date in aux) {\n",
    "#     if ( (date != \"20110816-3\") & (date != \"20110817\") ) {\n",
    "#         cap_features <- readr::read_csv(paste(\"capture\", date, \"_paraRF.csv\", sep = \"\"), show_col_types = FALSE)\n",
    "#         df_features <- dplyr::bind_rows(df_features, cap_features)\n",
    "#     }\n",
    "# }\n",
    "\n",
    "# readr::write_csv(df_features, \"all_captures_except_8y9_FEATURES.pkts.SINnorm.csv\")\n"
   ]
  },
  {
   "cell_type": "markdown",
   "metadata": {},
   "source": [
    "## Ahora sí"
   ]
  },
  {
   "cell_type": "code",
   "execution_count": 2,
   "metadata": {},
   "outputs": [],
   "source": [
    "x_tmp = pd.read_csv(\"/mnt/RF/all_captures_FEATURES.pkts.SINnorm.csv\", sep=\",\", header=0)"
   ]
  },
  {
   "cell_type": "code",
   "execution_count": 3,
   "metadata": {},
   "outputs": [],
   "source": [
    "x = pd.read_csv(\"/mnt/RF/all_captures_except_8y9_FEATURES.pkts.SINnorm.csv\", sep=\",\", header=0)"
   ]
  },
  {
   "cell_type": "code",
   "execution_count": 13,
   "metadata": {
    "scrolled": true
   },
   "outputs": [
    {
     "data": {
      "text/plain": [
       "<bound method NDFrame.head of                                  node      ID      OD      IDW      ODW  \\\n",
       "0                           1-0.0.0.0       0       1        0     2239   \n",
       "1                   1-255.255.255.255       6       0     2907        0   \n",
       "2                     1-1.108.169.143       1       1        6        6   \n",
       "3                     1-147.32.84.229  525631  540374  4796296  4936679   \n",
       "4                         1-1.11.9.68       1       1        2        2   \n",
       "...                               ...     ...     ...      ...      ...   \n",
       "2492758     13-fe80::5054:ff:fe89:354       0       1        0        4   \n",
       "2492759                  13-ff02::1:3       4       0       48        0   \n",
       "2492760    13-fe80::5054:ff:feef:6697       0       1        0        4   \n",
       "2492761  13-fe80::d036:46ef:ad35:fc09       0       1        0        6   \n",
       "2492762  13-fe80::f180:4f5c:7d4a:bbd7       0       1        0       34   \n",
       "\n",
       "            label  \n",
       "0        infected  \n",
       "1          normal  \n",
       "2        infected  \n",
       "3        infected  \n",
       "4          normal  \n",
       "...           ...  \n",
       "2492758  infected  \n",
       "2492759    normal  \n",
       "2492760  infected  \n",
       "2492761  infected  \n",
       "2492762  infected  \n",
       "\n",
       "[2492763 rows x 6 columns]>"
      ]
     },
     "execution_count": 13,
     "metadata": {},
     "output_type": "execute_result"
    }
   ],
   "source": [
    "x.head"
   ]
  },
  {
   "cell_type": "code",
   "execution_count": 4,
   "metadata": {},
   "outputs": [],
   "source": [
    "node_idx = {name: idx for idx, name in enumerate(sorted(x_tmp[\"node\"].unique()))}\n",
    "class_idx = {name: idx for idx, name in enumerate(sorted(x_tmp[\"label\"].unique()))} # 0=infected, 1=normal"
   ]
  },
  {
   "cell_type": "code",
   "execution_count": 5,
   "metadata": {},
   "outputs": [],
   "source": [
    "x[\"node\"] = x[\"node\"].apply(lambda name: node_idx[name])\n",
    "x[\"label\"] = x[\"label\"].apply(lambda value: class_idx[value])"
   ]
  },
  {
   "cell_type": "code",
   "execution_count": 17,
   "metadata": {},
   "outputs": [
    {
     "data": {
      "text/plain": [
       "<bound method NDFrame.head of             node      ID      OD      IDW      ODW  label\n",
       "0              0       0       1        0     2239      0\n",
       "1         252661       6       0     2907        0      1\n",
       "2              1       1       1        6        6      0\n",
       "3          97219  525631  540374  4796296  4936679      0\n",
       "4              2       1       1        2        2      1\n",
       "...          ...     ...     ...      ...      ...    ...\n",
       "2492758  1251096       0       1        0        4      0\n",
       "2492759  1251100       4       0       48        0      1\n",
       "2492760  1251097       0       1        0        4      0\n",
       "2492761  1251098       0       1        0        6      0\n",
       "2492762  1251099       0       1        0       34      0\n",
       "\n",
       "[2492763 rows x 6 columns]>"
      ]
     },
     "execution_count": 17,
     "metadata": {},
     "output_type": "execute_result"
    }
   ],
   "source": [
    "x.head"
   ]
  },
  {
   "cell_type": "code",
   "execution_count": 6,
   "metadata": {},
   "outputs": [
    {
     "data": {
      "text/plain": [
       "<bound method NDFrame.head of             node      ID      OD      IDW      ODW\n",
       "0              0       0       1        0     2239\n",
       "1         252661       6       0     2907        0\n",
       "2              1       1       1        6        6\n",
       "3          97219  525631  540374  4796296  4936679\n",
       "4              2       1       1        2        2\n",
       "...          ...     ...     ...      ...      ...\n",
       "2492758  1251096       0       1        0        4\n",
       "2492759  1251100       4       0       48        0\n",
       "2492760  1251097       0       1        0        4\n",
       "2492761  1251098       0       1        0        6\n",
       "2492762  1251099       0       1        0       34\n",
       "\n",
       "[2492763 rows x 5 columns]>"
      ]
     },
     "execution_count": 6,
     "metadata": {},
     "output_type": "execute_result"
    }
   ],
   "source": [
    "X = x.iloc[:,0:5]\n",
    "X.head"
   ]
  },
  {
   "cell_type": "code",
   "execution_count": 7,
   "metadata": {},
   "outputs": [
    {
     "data": {
      "text/plain": [
       "<bound method NDFrame.head of          label\n",
       "0            0\n",
       "1            1\n",
       "2            0\n",
       "3            0\n",
       "4            1\n",
       "...        ...\n",
       "2492758      0\n",
       "2492759      1\n",
       "2492760      0\n",
       "2492761      0\n",
       "2492762      0\n",
       "\n",
       "[2492763 rows x 1 columns]>"
      ]
     },
     "execution_count": 7,
     "metadata": {},
     "output_type": "execute_result"
    }
   ],
   "source": [
    "y = x.iloc[:,5:6]\n",
    "y.head"
   ]
  },
  {
   "cell_type": "code",
   "execution_count": 8,
   "metadata": {},
   "outputs": [
    {
     "name": "stdout",
     "output_type": "stream",
     "text": [
      "infected: 1115617  - normal: 1377146  -- total: 2492763\n"
     ]
    }
   ],
   "source": [
    "suma = 0\n",
    "for i in range(len(X)):\n",
    "    if (y.iloc[i,0] == 0): # 0 == \"infected\"\n",
    "        suma += 1\n",
    "\n",
    "print(\"infected:\",suma,\" - normal:\", len(X)-suma, \" -- total:\",len(X))"
   ]
  },
  {
   "cell_type": "code",
   "execution_count": 9,
   "metadata": {},
   "outputs": [
    {
     "name": "stdout",
     "output_type": "stream",
     "text": [
      "infected/total =  0.44754234558199074\n"
     ]
    }
   ],
   "source": [
    "print(\"infected/total = \",suma/len(X))"
   ]
  },
  {
   "cell_type": "code",
   "execution_count": 10,
   "metadata": {},
   "outputs": [],
   "source": [
    "x_test_Tati = pd.read_csv(\"/mnt/RF/capture20110816-3_paraRF.csv\", sep=\",\", header=0)\n",
    "\n",
    "x_test_Tati[\"node\"] = x_test_Tati[\"node\"].apply(lambda name: node_idx[name])\n",
    "x_test_Tati[\"label\"] = x_test_Tati[\"label\"].apply(lambda value: class_idx[value])\n",
    "\n",
    "X_test_Tati = x_test_Tati.iloc[:,0:5]\n",
    "y_test_Tati = x_test_Tati.iloc[:,5:6]"
   ]
  },
  {
   "cell_type": "code",
   "execution_count": 12,
   "metadata": {},
   "outputs": [
    {
     "data": {
      "text/html": [
       "<div>\n",
       "<style scoped>\n",
       "    .dataframe tbody tr th:only-of-type {\n",
       "        vertical-align: middle;\n",
       "    }\n",
       "\n",
       "    .dataframe tbody tr th {\n",
       "        vertical-align: top;\n",
       "    }\n",
       "\n",
       "    .dataframe thead th {\n",
       "        text-align: right;\n",
       "    }\n",
       "</style>\n",
       "<table border=\"1\" class=\"dataframe\">\n",
       "  <thead>\n",
       "    <tr style=\"text-align: right;\">\n",
       "      <th></th>\n",
       "      <th>label</th>\n",
       "    </tr>\n",
       "  </thead>\n",
       "  <tbody>\n",
       "    <tr>\n",
       "      <th>0</th>\n",
       "      <td>0</td>\n",
       "    </tr>\n",
       "    <tr>\n",
       "      <th>1</th>\n",
       "      <td>1</td>\n",
       "    </tr>\n",
       "    <tr>\n",
       "      <th>2</th>\n",
       "      <td>1</td>\n",
       "    </tr>\n",
       "    <tr>\n",
       "      <th>3</th>\n",
       "      <td>0</td>\n",
       "    </tr>\n",
       "    <tr>\n",
       "      <th>4</th>\n",
       "      <td>1</td>\n",
       "    </tr>\n",
       "    <tr>\n",
       "      <th>...</th>\n",
       "      <td>...</td>\n",
       "    </tr>\n",
       "    <tr>\n",
       "      <th>381445</th>\n",
       "      <td>0</td>\n",
       "    </tr>\n",
       "    <tr>\n",
       "      <th>381446</th>\n",
       "      <td>1</td>\n",
       "    </tr>\n",
       "    <tr>\n",
       "      <th>381447</th>\n",
       "      <td>0</td>\n",
       "    </tr>\n",
       "    <tr>\n",
       "      <th>381448</th>\n",
       "      <td>0</td>\n",
       "    </tr>\n",
       "    <tr>\n",
       "      <th>381449</th>\n",
       "      <td>0</td>\n",
       "    </tr>\n",
       "  </tbody>\n",
       "</table>\n",
       "<p>381450 rows × 1 columns</p>\n",
       "</div>"
      ],
      "text/plain": [
       "        label\n",
       "0           0\n",
       "1           1\n",
       "2           1\n",
       "3           0\n",
       "4           1\n",
       "...       ...\n",
       "381445      0\n",
       "381446      1\n",
       "381447      0\n",
       "381448      0\n",
       "381449      0\n",
       "\n",
       "[381450 rows x 1 columns]"
      ]
     },
     "execution_count": 12,
     "metadata": {},
     "output_type": "execute_result"
    }
   ],
   "source": [
    "y_test_Tati"
   ]
  },
  {
   "cell_type": "code",
   "execution_count": 13,
   "metadata": {},
   "outputs": [
    {
     "name": "stderr",
     "output_type": "stream",
     "text": [
      "<ipython-input-13-3420f943dcb0>:8: DataConversionWarning: A column-vector y was passed when a 1d array was expected. Please change the shape of y to (n_samples,), for example using ravel().\n",
      "  rf_clf.fit(X, y)\n"
     ]
    },
    {
     "name": "stdout",
     "output_type": "stream",
     "text": [
      "Accuracy: 1.00\n",
      "Confusion Matrix:\n",
      " [[189679      0]\n",
      " [     0 191771]]\n",
      "Classification Report:\n",
      "               precision    recall  f1-score   support\n",
      "\n",
      "           0       1.00      1.00      1.00    189679\n",
      "           1       1.00      1.00      1.00    191771\n",
      "\n",
      "    accuracy                           1.00    381450\n",
      "   macro avg       1.00      1.00      1.00    381450\n",
      "weighted avg       1.00      1.00      1.00    381450\n",
      "\n"
     ]
    }
   ],
   "source": [
    "# Split the data into train and test sets\n",
    "#X_train, X_test, y_train, y_test = train_test_split(X, y, test_size=0.2, random_state=42)\n",
    "\n",
    "# Create a random forest classifier\n",
    "rf_clf = RandomForestClassifier(n_estimators=100, random_state=42)\n",
    "\n",
    "# Train the classifier\n",
    "rf_clf.fit(X, y)\n",
    "\n",
    "# Make predictions on the test set\n",
    "y_pred = rf_clf.predict(X_test_Tati)\n",
    "\n",
    "# Calculate the accuracy\n",
    "accuracy = accuracy_score(y_test_Tati, y_pred)\n",
    "print(f\"Accuracy: {accuracy:.2f}\")\n",
    "\n",
    "# Print the confusion matrix\n",
    "conf_matrix = confusion_matrix(y_test_Tati, y_pred)\n",
    "print(\"Confusion Matrix:\\n\", conf_matrix)\n",
    "\n",
    "# Print the classification report\n",
    "class_report = classification_report(y_test_Tati, y_pred)\n",
    "print(\"Classification Report:\\n\", class_report)"
   ]
  },
  {
   "cell_type": "markdown",
   "metadata": {},
   "source": [
    "**----------------------------------------------------------------------------------------------------------------**"
   ]
  },
  {
   "cell_type": "code",
   "execution_count": null,
   "metadata": {},
   "outputs": [],
   "source": [
    "# En R, junté todas las capturas (para después hacer el diccionario node_idx)\n",
    "# En R, junté las capturas que me interesan para entrenar\n",
    "\n",
    "\n",
    "# df_features <- readr::read_csv(\"capture20110810_features_prefix.csv\", show_col_types = FALSE)\n",
    "# aux = c(\"20110811\", \"20110812\", \"20110815\", \"20110815-2\", \"20110816\", \"20110816-2\", \"20110816-3\", \"20110817\", \"20110818\", \"20110818-2\", \"20110819\", \"20110815-3\")\n",
    "\n",
    "# for (date in aux) {\n",
    "#     cap_features <- readr::read_csv(paste(\"capture\", date, \"_features_prefix.csv\", sep = \"\"), show_col_types = FALSE)\n",
    "#     df_features <- dplyr::bind_rows(df_features, cap_features)\n",
    "# }\n",
    "\n",
    "# readr::write_csv(df_features, \"all_captures_FEATURES_originales.pkts.SINnorm.csv\")\n",
    "        \n",
    "# # ###################\n",
    "\n",
    "# df_features <- readr::read_csv(\"capture20110810_features_prefix.csv\", show_col_types = FALSE)\n",
    "\n",
    "# # Captures in order from 2nd to 13th\n",
    "# aux = c(\"20110811\", \"20110812\", \"20110815\", \"20110815-2\", \"20110816\", \"20110816-2\", \"20110816-3\", \"20110817\", \"20110818\", \"20110818-2\", \"20110819\", \"20110815-3\")\n",
    "\n",
    "# for (date in aux) {\n",
    "#     if ( (date != \"20110816-3\") & (date != \"20110817\") ) {\n",
    "#         cap_features <- readr::read_csv(paste(\"capture\", date, \"_features_prefix.csv\", sep = \"\"), show_col_types = FALSE)\n",
    "#         df_features <- dplyr::bind_rows(df_features, cap_features)\n",
    "#     }\n",
    "# }\n",
    "\n",
    "# readr::write_csv(df_features, \"all_captures_except_8y9_FEATURES_originales.pkts.SINnorm.csv\")\n"
   ]
  },
  {
   "cell_type": "code",
   "execution_count": 23,
   "metadata": {},
   "outputs": [],
   "source": [
    "x_tmp_orig = pd.read_csv(\"/mnt/RF/all_captures_FEATURES_originales.pkts.SINnorm.csv\", sep=\",\", header=0)\n",
    "x_orig = pd.read_csv(\"/mnt/RF/all_captures_except_8y9_FEATURES_originales.pkts.SINnorm.csv\", sep=\",\", header=0)"
   ]
  },
  {
   "cell_type": "code",
   "execution_count": 24,
   "metadata": {},
   "outputs": [],
   "source": [
    "node_idx = {name: idx for idx, name in enumerate(sorted(x_tmp_orig[\"node\"].unique()))}\n",
    "class_idx = {name: idx for idx, name in enumerate(sorted(x_tmp_orig[\"label\"].unique()))} # 0=infected, 1=normal"
   ]
  },
  {
   "cell_type": "code",
   "execution_count": 25,
   "metadata": {},
   "outputs": [],
   "source": [
    "x_orig[\"node\"] = x_orig[\"node\"].apply(lambda name: node_idx[name])\n",
    "x_orig[\"label\"] = x_orig[\"label\"].apply(lambda value: class_idx[value])"
   ]
  },
  {
   "cell_type": "code",
   "execution_count": 26,
   "metadata": {
    "scrolled": true
   },
   "outputs": [
    {
     "data": {
      "text/plain": [
       "<bound method NDFrame.head of             node      ID      OD      IDW      ODW\n",
       "0              0       0       1        0     2239\n",
       "1         252661       6       0     2907        0\n",
       "2              1       1       1        6        6\n",
       "3          97219  525631  540374  4796296  4936679\n",
       "4              2       1       1        2        2\n",
       "...          ...     ...     ...      ...      ...\n",
       "2492758  1251096       0       1        0        4\n",
       "2492759  1251100       4       0       48        0\n",
       "2492760  1251097       0       1        0        4\n",
       "2492761  1251098       0       1        0        6\n",
       "2492762  1251099       0       1        0       34\n",
       "\n",
       "[2492763 rows x 5 columns]>"
      ]
     },
     "execution_count": 26,
     "metadata": {},
     "output_type": "execute_result"
    }
   ],
   "source": [
    "X_orig = x_orig.iloc[:,0:5]\n",
    "X_orig.head"
   ]
  },
  {
   "cell_type": "code",
   "execution_count": 27,
   "metadata": {},
   "outputs": [
    {
     "data": {
      "text/plain": [
       "<bound method NDFrame.head of          label\n",
       "0            1\n",
       "1            1\n",
       "2            1\n",
       "3            1\n",
       "4            1\n",
       "...        ...\n",
       "2492758      1\n",
       "2492759      1\n",
       "2492760      1\n",
       "2492761      1\n",
       "2492762      1\n",
       "\n",
       "[2492763 rows x 1 columns]>"
      ]
     },
     "execution_count": 27,
     "metadata": {},
     "output_type": "execute_result"
    }
   ],
   "source": [
    "y_orig = x_orig.iloc[:,5:6]\n",
    "y_orig.head"
   ]
  },
  {
   "cell_type": "code",
   "execution_count": 28,
   "metadata": {},
   "outputs": [
    {
     "name": "stdout",
     "output_type": "stream",
     "text": [
      "infected: 24  - normal: 2492739  -- total: 2492763\n"
     ]
    }
   ],
   "source": [
    "suma = 0\n",
    "for i in range(len(X_orig)):\n",
    "    if (y_orig.iloc[i,0] == 0): # 0 == \"infected\"\n",
    "        suma += 1\n",
    "\n",
    "print(\"infected:\",suma,\" - normal:\", len(X_orig)-suma, \" -- total:\",len(X_orig))"
   ]
  },
  {
   "cell_type": "code",
   "execution_count": 29,
   "metadata": {},
   "outputs": [],
   "source": [
    "x_test_Tati_orig = pd.read_csv(\"/mnt/features-prefix/capture20110816-3_features_prefix.csv\", sep=\",\", header=0)\n",
    "\n",
    "x_test_Tati_orig[\"node\"] = x_test_Tati_orig[\"node\"].apply(lambda name: node_idx[name])\n",
    "x_test_Tati_orig[\"label\"] = x_test_Tati_orig[\"label\"].apply(lambda value: class_idx[value])\n",
    "\n",
    "X_test_Tati_orig = x_test_Tati_orig.iloc[:,0:5]\n",
    "y_test_Tati_orig = x_test_Tati_orig.iloc[:,5:6]"
   ]
  },
  {
   "cell_type": "code",
   "execution_count": 30,
   "metadata": {},
   "outputs": [
    {
     "name": "stderr",
     "output_type": "stream",
     "text": [
      "<ipython-input-30-600c8609551c>:8: DataConversionWarning: A column-vector y was passed when a 1d array was expected. Please change the shape of y to (n_samples,), for example using ravel().\n",
      "  rf_clf_orig.fit(X_orig, y_orig)\n"
     ]
    },
    {
     "name": "stdout",
     "output_type": "stream",
     "text": [
      "Accuracy: 1.00\n",
      "Confusion Matrix:\n",
      " [[     0      1]\n",
      " [     0 381449]]\n"
     ]
    },
    {
     "name": "stderr",
     "output_type": "stream",
     "text": [
      "/usr/local/lib/python3.8/dist-packages/sklearn/metrics/_classification.py:1344: UndefinedMetricWarning: Precision and F-score are ill-defined and being set to 0.0 in labels with no predicted samples. Use `zero_division` parameter to control this behavior.\n",
      "  _warn_prf(average, modifier, msg_start, len(result))\n"
     ]
    },
    {
     "name": "stdout",
     "output_type": "stream",
     "text": [
      "Classification Report:\n",
      "               precision    recall  f1-score   support\n",
      "\n",
      "           0       0.00      0.00      0.00         1\n",
      "           1       1.00      1.00      1.00    381449\n",
      "\n",
      "    accuracy                           1.00    381450\n",
      "   macro avg       0.50      0.50      0.50    381450\n",
      "weighted avg       1.00      1.00      1.00    381450\n",
      "\n"
     ]
    },
    {
     "name": "stderr",
     "output_type": "stream",
     "text": [
      "/usr/local/lib/python3.8/dist-packages/sklearn/metrics/_classification.py:1344: UndefinedMetricWarning: Precision and F-score are ill-defined and being set to 0.0 in labels with no predicted samples. Use `zero_division` parameter to control this behavior.\n",
      "  _warn_prf(average, modifier, msg_start, len(result))\n",
      "/usr/local/lib/python3.8/dist-packages/sklearn/metrics/_classification.py:1344: UndefinedMetricWarning: Precision and F-score are ill-defined and being set to 0.0 in labels with no predicted samples. Use `zero_division` parameter to control this behavior.\n",
      "  _warn_prf(average, modifier, msg_start, len(result))\n"
     ]
    }
   ],
   "source": [
    "# Split the data into train and test sets\n",
    "#X_train, X_test, y_train, y_test = train_test_split(X, y, test_size=0.2, random_state=42)\n",
    "\n",
    "# Create a random forest classifier\n",
    "rf_clf_orig = RandomForestClassifier(n_estimators=100, random_state=42)\n",
    "\n",
    "# Train the classifier\n",
    "rf_clf_orig.fit(X_orig, y_orig)\n",
    "\n",
    "# Make predictions on the test set\n",
    "y_pred_orig = rf_clf_orig.predict(X_test_Tati_orig)\n",
    "\n",
    "# Calculate the accuracy\n",
    "accuracy_orig = accuracy_score(y_test_Tati_orig, y_pred_orig)\n",
    "print(f\"Accuracy: {accuracy_orig:.2f}\")\n",
    "\n",
    "# Print the confusion matrix\n",
    "conf_matrix_orig = confusion_matrix(y_test_Tati_orig, y_pred_orig)\n",
    "print(\"Confusion Matrix:\\n\", conf_matrix_orig)\n",
    "\n",
    "# Print the classification report\n",
    "class_report_orig = classification_report(y_test_Tati_orig, y_pred_orig)\n",
    "print(\"Classification Report:\\n\", class_report_orig)"
   ]
  },
  {
   "cell_type": "code",
   "execution_count": null,
   "metadata": {},
   "outputs": [],
   "source": []
  }
 ],
 "metadata": {
  "kernelspec": {
   "display_name": "Python 3",
   "language": "python",
   "name": "python3"
  },
  "language_info": {
   "codemirror_mode": {
    "name": "ipython",
    "version": 3
   },
   "file_extension": ".py",
   "mimetype": "text/x-python",
   "name": "python",
   "nbconvert_exporter": "python",
   "pygments_lexer": "ipython3",
   "version": "3.8.10"
  }
 },
 "nbformat": 4,
 "nbformat_minor": 2
}
