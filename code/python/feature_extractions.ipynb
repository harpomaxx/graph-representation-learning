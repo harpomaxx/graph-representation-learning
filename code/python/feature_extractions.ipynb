{
 "cells": [
  {
   "cell_type": "code",
   "execution_count": 2,
   "metadata": {},
   "outputs": [],
   "source": [
    "import graph_tool.all as gt\n",
    "import pandas as pd"
   ]
  },
  {
   "cell_type": "code",
   "execution_count": 3,
   "metadata": {},
   "outputs": [],
   "source": [
    "def botnetIP(ctu_name):\n",
    "    a=ctu_name==\"capture20110810.binetflow.labels.gz\" or ctu_name==\"capture20110811.binetflow.labels.gz\"\n",
    "    b=ctu_name==\"capture20110815.binetflow.labels.gz\"or ctu_name==\"capture20110812.binetflow.labels.gz\"\n",
    "    c=ctu_name==\"capture20110815-3.binetflow.labels.gz\" or ctu_name==\"capture20110815-2.binetflow.labels.gz\"\n",
    "    d=ctu_name==\"capture20110816.binetflow.labels.gz\" or ctu_name==\"capture20110816-2.binetflow.labels.gz\"\n",
    "    e=ctu_name==\"capture20110816-3.binetflow.labels.gz\"\n",
    "    if  a or b or c or d or e:\n",
    "        bots=[\"147.32.84.165\"]\n",
    "    elif ctu_name==\"capture20110817.binetflow.labels.gz\" or ctu_name==\"capture20110818.binetflow.labels.gz\":\n",
    "        bots=[\"147.32.84.165\",\"147.32.84.191\",\"147.32.84.192\",\"147.32.84.193\",\"147.32.84.204\",\"147.32.84.205\",\"147.32.84.206\",\"147.32.84.207\",\"147.32.84.208\",\"147.32.84.209\"]\n",
    "    elif ctu_name==\"capture20110818-2.binetflow.labels.gz\" or ctu_name==\"capture20110819.binetflow.labels.gz\":\n",
    "        bots=[\"147.32.84.165\",\"147.32.84.191\",\"147.32.84.192\"]\n",
    "    return bots"
   ]
  },
  {
   "cell_type": "code",
   "execution_count": 4,
   "metadata": {},
   "outputs": [],
   "source": [
    "#Feature normalizer:\n",
    "def normalize(graph,feature):\n",
    "    \"\"\"feature is a property map of the graph\"\"\"\n",
    "    feature_norm=graph.new_vp(\"double\")\n",
    "    for v in graph.vertices():\n",
    "        sum_feature_neigh=0\n",
    "        for v_neigh in v.all_neighbors():\n",
    "            sum_feature_neigh+=feature[v_neigh]\n",
    "        if sum_feature_neigh==0:\n",
    "            sum_feature_neigh=1\n",
    "        feature_norm[v]=feature[v]/sum_feature_neigh\n",
    "    return feature_norm"
   ]
  },
  {
   "cell_type": "code",
   "execution_count": 5,
   "metadata": {},
   "outputs": [],
   "source": [
    "g=gt.Graph()\n",
    "ctuName=\"capture20110815-2.binetflow.labels.gz\"\n",
    "g= gt.load_graph(\"../../data/graphml/\"+ctuName+\".graphml\")"
   ]
  },
  {
   "cell_type": "code",
   "execution_count": 6,
   "metadata": {},
   "outputs": [],
   "source": [
    "#Get in degree\n",
    "ID=g.degree_property_map(\"in\")\n",
    "ID_norm=normalize(g,ID)\n",
    "ID_df=pd.DataFrame(ID_norm)\n",
    "#Get out degree\n",
    "OD=g.degree_property_map(\"out\")\n",
    "OD_norm=normalize(g,OD)\n",
    "OD_df=pd.DataFrame(OD_norm)\n",
    "\n",
    "\n",
    "#Get edge property map of weights\n",
    "Bytes=g.edge_properties[\"Bytes\"]\n",
    "#Get in degree with weight\n",
    "IDW=g.degree_property_map(\"in\",weight=Bytes)\n",
    "IDW_norm=normalize(g,IDW)\n",
    "IDW_df=pd.DataFrame(IDW_norm)\n",
    "#Get out degree with weight\n",
    "ODW=g.degree_property_map(\"out\",weight=Bytes)\n",
    "ODW_norm=normalize(g,ODW)\n",
    "ODW_df=pd.DataFrame(ODW_norm)\n",
    "\n",
    "\n",
    "BV, _ = gt.betweenness(g,weight=Bytes,norm=True)\n",
    "BV_norm=normalize(g,BV)\n",
    "BC_df=pd.DataFrame(BV_norm)\n",
    "\n",
    "LCC=gt.local_clustering(g,weight=None)\n",
    "LCC_norm=normalize(g,LCC)\n",
    "LCC_df=pd.DataFrame(LCC_norm)\n",
    "\n",
    "\n",
    "# for v in g.vertices():\n",
    "#     print(g.vp.name[v])\n",
    "#     ID=gt.in_degree(g)\n",
    "#2m 19.6s"
   ]
  },
  {
   "cell_type": "code",
   "execution_count": 7,
   "metadata": {},
   "outputs": [],
   "source": [
    "AC=gt.katz(g,weight=None,norm=False)\n",
    "AC_norm=normalize(g,AC)\n",
    "AC_df=pd.DataFrame(AC_norm)\n"
   ]
  },
  {
   "cell_type": "code",
   "execution_count": 8,
   "metadata": {},
   "outputs": [],
   "source": [
    "#Get node names\n",
    "nodes=pd.DataFrame(g.vp.name)\n",
    "nodes_df=pd.DataFrame(nodes)\n",
    "\n",
    "#Concatenate dataframes\n",
    "df=pd.concat([nodes_df,ID_df,OD_df,IDW_df,ODW_df,BC_df,LCC_df,AC_df],axis=1)\n",
    "df.columns=[\"node\",\"ID\",\"OD\",\"IDW\",\"ODW\",\"BC\",\"LCC\",\"AC\"]\n",
    "df.to_csv(\"../../data/csv/\"+ctuName+\".csv\")\n"
   ]
  },
  {
   "cell_type": "code",
   "execution_count": 28,
   "metadata": {},
   "outputs": [],
   "source": [
    "\n",
    "# ID_norm=g.new_vp(\"double\")\n",
    "# for v in g.vertices():\n",
    "#     sum_ID_neigh=0\n",
    "#     for v_neigh in v.all_neighbors():\n",
    "#         sum_ID_neigh+=ID[v_neigh]\n",
    "#     if sum_ID_neigh==0:\n",
    "#         sum_ID_neigh=1\n",
    "#     ID_norm[v]=ID[v]/sum_ID_neigh\n"
   ]
  },
  {
   "cell_type": "code",
   "execution_count": 7,
   "metadata": {},
   "outputs": [
    {
     "name": "stdout",
     "output_type": "stream",
     "text": [
      "              0\n",
      "0      0.000000\n",
      "1      0.000000\n",
      "2      0.019231\n",
      "3      0.000015\n",
      "4      0.000000\n",
      "...         ...\n",
      "41653  1.000000\n",
      "41654  1.000000\n",
      "41655  8.000000\n",
      "41656  1.000000\n",
      "41657  1.000000\n",
      "\n",
      "[41658 rows x 1 columns]\n"
     ]
    }
   ],
   "source": [
    "# for v in g.vertices():\n",
    "#     print(g.vp.name[v])\n",
    "# ID=g.degree_property_map(\"in\")\n",
    "# ID_df=pd.DataFrame(ID)\n",
    "#for e in g.edges():\n",
    " #   print(g.ep.Bytes[e])\n",
    " #g.list_properties()\n",
    " #gt.graph_draw(g, vertex_text=g.vertex_index)\n",
    "\n",
    "#for v in g.vertices():\n",
    "#    BC.append(bv[v])\n",
    "#    names.append(g.vp.name[v])\n",
    "\n",
    "\n",
    "#Feature calculations\n",
    "#bv, be = gt.betweenness(g,weight=g.ep.Bytes,norm=True) \n",
    "\n",
    "\n",
    "\n",
    "# v=g.vertex(2)\n",
    "# sum_ID_neigh=0\n",
    "# for v_neigh in v.all_neighbors():\n",
    "#     sum_ID_neigh+=ID[v_neigh]\n",
    "# print(sum_ID_neigh)\n",
    "# print(ID[v])\n",
    "# ID_norm_df=pd.DataFrame(ID_norm)\n"
   ]
  },
  {
   "cell_type": "code",
   "execution_count": null,
   "metadata": {},
   "outputs": [],
   "source": []
  }
 ],
 "metadata": {
  "kernelspec": {
   "display_name": "Python 3.10.5 ('gt')",
   "language": "python",
   "name": "python3"
  },
  "language_info": {
   "codemirror_mode": {
    "name": "ipython",
    "version": 3
   },
   "file_extension": ".py",
   "mimetype": "text/x-python",
   "name": "python",
   "nbconvert_exporter": "python",
   "pygments_lexer": "ipython3",
   "version": "3.10.5"
  },
  "orig_nbformat": 4,
  "vscode": {
   "interpreter": {
    "hash": "ab0774bc5a671a23b44c29c3e51cb854334b162dabe23a6d8f80d624df21a20b"
   }
  }
 },
 "nbformat": 4,
 "nbformat_minor": 2
}
