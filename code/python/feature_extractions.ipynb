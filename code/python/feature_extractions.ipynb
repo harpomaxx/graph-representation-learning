{
 "cells": [
  {
   "cell_type": "code",
   "execution_count": 1,
   "metadata": {},
   "outputs": [
    {
     "ename": "ModuleNotFoundError",
     "evalue": "No module named 'graph_tool'",
     "output_type": "error",
     "traceback": [
      "\u001b[1;31m---------------------------------------------------------------------------\u001b[0m",
      "\u001b[1;31mModuleNotFoundError\u001b[0m                       Traceback (most recent call last)",
      "\u001b[1;32m<ipython-input-1-04214241bfc9>\u001b[0m in \u001b[0;36m<module>\u001b[1;34m\u001b[0m\n\u001b[1;32m----> 1\u001b[1;33m \u001b[1;32mimport\u001b[0m \u001b[0mgraph_tool\u001b[0m\u001b[1;33m.\u001b[0m\u001b[0mall\u001b[0m \u001b[1;32mas\u001b[0m \u001b[0mgt\u001b[0m\u001b[1;33m\u001b[0m\u001b[1;33m\u001b[0m\u001b[0m\n\u001b[0m\u001b[0;32m      2\u001b[0m \u001b[1;32mimport\u001b[0m \u001b[0mpandas\u001b[0m \u001b[1;32mas\u001b[0m \u001b[0mpd\u001b[0m\u001b[1;33m\u001b[0m\u001b[1;33m\u001b[0m\u001b[0m\n",
      "\u001b[1;31mModuleNotFoundError\u001b[0m: No module named 'graph_tool'"
     ]
    }
   ],
   "source": [
    "import graph_tool.all as gt\n",
    "import pandas as pd"
   ]
  },
  {
   "cell_type": "code",
   "execution_count": null,
   "metadata": {},
   "outputs": [],
   "source": [
    "def botnetIP(ctu_name):\n",
    "    a=ctu_name==\"capture20110810.binetflow.labels.gz\" or ctu_name==\"capture20110811.binetflow.labels.gz\"\n",
    "    b=ctu_name==\"capture20110815.binetflow.labels.gz\"or ctu_name==\"capture20110812.binetflow.labels.gz\"\n",
    "    c=ctu_name==\"capture20110815-3.binetflow.labels.gz\" or ctu_name==\"capture20110815-2.binetflow.labels.gz\"\n",
    "    d=ctu_name==\"capture20110816.binetflow.labels.gz\" or ctu_name==\"capture20110816-2.binetflow.labels.gz\"\n",
    "    e=ctu_name==\"capture20110816-3.binetflow.labels.gz\"\n",
    "    if  a or b or c or d or e:\n",
    "        bots=[\"147.32.84.165\"]\n",
    "    elif ctu_name==\"capture20110817.binetflow.labels.gz\" or ctu_name==\"capture20110818.binetflow.labels.gz\":\n",
    "        bots=[\"147.32.84.165\",\"147.32.84.191\",\"147.32.84.192\",\"147.32.84.193\",\"147.32.84.204\",\"147.32.84.205\",\"147.32.84.206\",\"147.32.84.207\",\"147.32.84.208\",\"147.32.84.209\"]\n",
    "    elif ctu_name==\"capture20110818-2.binetflow.labels.gz\" or ctu_name==\"capture20110819.binetflow.labels.gz\":\n",
    "        bots=[\"147.32.84.165\",\"147.32.84.191\",\"147.32.84.192\"]\n",
    "    return bots"
   ]
  },
  {
   "cell_type": "code",
   "execution_count": 3,
   "metadata": {},
   "outputs": [
    {
     "ename": "NameError",
     "evalue": "name 'gt' is not defined",
     "output_type": "error",
     "traceback": [
      "\u001b[1;31m---------------------------------------------------------------------------\u001b[0m",
      "\u001b[1;31mNameError\u001b[0m                                 Traceback (most recent call last)",
      "\u001b[1;32m<ipython-input-3-f84723f8e136>\u001b[0m in \u001b[0;36m<module>\u001b[1;34m\u001b[0m\n\u001b[1;32m----> 1\u001b[1;33m \u001b[0mg\u001b[0m\u001b[1;33m=\u001b[0m\u001b[0mgt\u001b[0m\u001b[1;33m.\u001b[0m\u001b[0mGraph\u001b[0m\u001b[1;33m(\u001b[0m\u001b[1;33m)\u001b[0m\u001b[1;33m\u001b[0m\u001b[1;33m\u001b[0m\u001b[0m\n\u001b[0m\u001b[0;32m      2\u001b[0m \u001b[0mctuName\u001b[0m\u001b[1;33m=\u001b[0m\u001b[1;34m\"capture20110815-2.binetflow.labels.gz\"\u001b[0m\u001b[1;33m\u001b[0m\u001b[1;33m\u001b[0m\u001b[0m\n\u001b[0;32m      3\u001b[0m \u001b[0mg\u001b[0m\u001b[1;33m=\u001b[0m \u001b[0mgt\u001b[0m\u001b[1;33m.\u001b[0m\u001b[0mload_graph\u001b[0m\u001b[1;33m(\u001b[0m\u001b[1;34m\"../../data/graphml/\"\u001b[0m\u001b[1;33m+\u001b[0m\u001b[0mctuName\u001b[0m\u001b[1;33m+\u001b[0m\u001b[1;34m\".graphml\"\u001b[0m\u001b[1;33m)\u001b[0m\u001b[1;33m\u001b[0m\u001b[1;33m\u001b[0m\u001b[0m\n",
      "\u001b[1;31mNameError\u001b[0m: name 'gt' is not defined"
     ]
    }
   ],
   "source": [
    "g=gt.Graph()\n",
    "ctuName=\"capture20110815-2.binetflow.labels.gz\"\n",
    "g= gt.load_graph(\"../../data/graphml/\"+ctuName+\".graphml\")"
   ]
  },
  {
   "cell_type": "code",
   "execution_count": 5,
   "metadata": {},
   "outputs": [
    {
     "ename": "NameError",
     "evalue": "name 'gt' is not defined",
     "output_type": "error",
     "traceback": [
      "\u001b[1;31m---------------------------------------------------------------------------\u001b[0m",
      "\u001b[1;31mNameError\u001b[0m                                 Traceback (most recent call last)",
      "\u001b[1;32m<ipython-input-5-9d29a7e1c13b>\u001b[0m in \u001b[0;36m<module>\u001b[1;34m\u001b[0m\n\u001b[0;32m     12\u001b[0m \u001b[1;33m\u001b[0m\u001b[0m\n\u001b[0;32m     13\u001b[0m \u001b[1;31m#Feature calculations\u001b[0m\u001b[1;33m\u001b[0m\u001b[1;33m\u001b[0m\u001b[1;33m\u001b[0m\u001b[0m\n\u001b[1;32m---> 14\u001b[1;33m \u001b[0mbv\u001b[0m\u001b[1;33m,\u001b[0m \u001b[0mbe\u001b[0m \u001b[1;33m=\u001b[0m \u001b[0mgt\u001b[0m\u001b[1;33m.\u001b[0m\u001b[0mbetweenness\u001b[0m\u001b[1;33m(\u001b[0m\u001b[0mg\u001b[0m\u001b[1;33m,\u001b[0m\u001b[0mweight\u001b[0m\u001b[1;33m=\u001b[0m\u001b[0mg\u001b[0m\u001b[1;33m.\u001b[0m\u001b[0mep\u001b[0m\u001b[1;33m.\u001b[0m\u001b[0mBytes\u001b[0m\u001b[1;33m,\u001b[0m\u001b[0mnorm\u001b[0m\u001b[1;33m=\u001b[0m\u001b[1;32mTrue\u001b[0m\u001b[1;33m)\u001b[0m\u001b[1;33m\u001b[0m\u001b[1;33m\u001b[0m\u001b[0m\n\u001b[0m\u001b[0;32m     15\u001b[0m \u001b[1;33m\u001b[0m\u001b[0m\n",
      "\u001b[1;31mNameError\u001b[0m: name 'gt' is not defined"
     ]
    }
   ],
   "source": [
    "#for v in g.vertices():\n",
    " #   print(g.vp.name[v])\n",
    "#for e in g.edges():\n",
    " #   print(g.ep.Bytes[e])\n",
    " #g.list_properties()\n",
    " #gt.graph_draw(g, vertex_text=g.vertex_index)\n",
    "\n",
    "#for v in g.vertices():\n",
    "#    BC.append(bv[v])\n",
    "#    names.append(g.vp.name[v])\n",
    "\n",
    "\n",
    "#Feature calculations\n",
    "bv, be = gt.betweenness(g,weight=g.ep.Bytes,norm=True) \n",
    "\n"
   ]
  },
  {
   "cell_type": "code",
   "execution_count": null,
   "metadata": {},
   "outputs": [],
   "source": [
    "#Get in degree\n",
    "ID=gt.in_degree(g)\n"
   ]
  },
  {
   "cell_type": "code",
   "execution_count": null,
   "metadata": {},
   "outputs": [],
   "source": [
    "#Feature Normalizations. F-Norm with D=1\n"
   ]
  }
 ],
 "metadata": {
  "kernelspec": {
   "display_name": "Python 3.8.8 ('base')",
   "language": "python",
   "name": "python3"
  },
  "language_info": {
   "codemirror_mode": {
    "name": "ipython",
    "version": 3
   },
   "file_extension": ".py",
   "mimetype": "text/x-python",
   "name": "python",
   "nbconvert_exporter": "python",
   "pygments_lexer": "ipython3",
   "version": "3.8.8"
  },
  "orig_nbformat": 4,
  "vscode": {
   "interpreter": {
    "hash": "e841ff1bfe577a27c6325d838a49a1521ea74b11fdd3bafd9eb0c569cfeb28d8"
   }
  }
 },
 "nbformat": 4,
 "nbformat_minor": 2
}
