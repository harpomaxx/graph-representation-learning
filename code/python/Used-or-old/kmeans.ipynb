{
 "cells": [
  {
   "cell_type": "code",
   "execution_count": 7,
   "metadata": {},
   "outputs": [],
   "source": [
    "import pandas as pd\n",
    "import numpy as np\n",
    "from sklearn.cluster import KMeans\n",
    "import os\n",
    "\n",
    "#Create an empty dataframe\n",
    "df_all = pd.DataFrame()\n",
    "\n",
    "for root, dirs, files in os.walk(\"../../data/csv\"):\n",
    "    for ctuName in files:\n",
    "        if(ctuName.find('capture20110817')+1 or ctuName.find('norm')+1): #Excluding capture number 9 from training\n",
    "            continue                                                     #and normalized data\n",
    "\n",
    "        df=pd.read_csv('../../data/csv/'+ctuName)\n",
    "        #Concat df to df_all\n",
    "        df_all = pd.concat([df_all, df], ignore_index=True)\n",
    "#Remove first column\n",
    "df_all.drop(df_all.columns[0], axis=1, inplace=True)"
   ]
  },
  {
   "cell_type": "code",
   "execution_count": 8,
   "metadata": {},
   "outputs": [
    {
     "name": "stdout",
     "output_type": "stream",
     "text": [
      "                            node  ID  OD    IDW      ODW   BC  LCC        AC  \\\n",
      "0                        0.0.0.0   0   1    0.0  41088.0  0.0  0.0  1.000000   \n",
      "1                  1.112.136.153   1   1   60.0     73.0  0.0  0.0  1.332001   \n",
      "2                   1.112.14.246   1   1  483.0     74.0  0.0  0.0  1.332001   \n",
      "3                    1.112.94.89   1   1   60.0    486.0  0.0  0.0  1.332001   \n",
      "4                   1.113.55.185   1   1   60.0     73.0  0.0  0.0  1.332001   \n",
      "...                          ...  ..  ..    ...      ...  ...  ...       ...   \n",
      "79337               99.98.189.15   1   1  544.0    547.0  0.0  0.0  1.421143   \n",
      "79338              99.98.213.223   1   1   68.0     60.0  0.0  0.0  1.005724   \n",
      "79339                99.99.37.39   1   1   60.0     75.0  0.0  0.0  1.421143   \n",
      "79340  fe80::f180:4f5c:7d4a:bbd7   0   1    0.0    168.0  0.0  0.0  1.000000   \n",
      "79341                  ff02::1:3   1   0  168.0      0.0  0.0  0.0  1.003000   \n",
      "\n",
      "       label  \n",
      "0        0.0  \n",
      "1        0.0  \n",
      "2        0.0  \n",
      "3        0.0  \n",
      "4        0.0  \n",
      "...      ...  \n",
      "79337    0.0  \n",
      "79338    0.0  \n",
      "79339    0.0  \n",
      "79340    0.0  \n",
      "79341    0.0  \n",
      "\n",
      "[79342 rows x 9 columns]\n"
     ]
    }
   ],
   "source": [
    "#Get df_all size\n",
    "df_all.shape\n",
    "#We are getting 2.874.213 rows instead of 2.887.787(paper). This is because we dropped some comunications in different protocols.\n",
    "print(df_all) "
   ]
  },
  {
   "cell_type": "code",
   "execution_count": 9,
   "metadata": {},
   "outputs": [],
   "source": [
    "#Get dataframe column labels\n",
    "features=df_all.columns.values\n",
    "X = np.array(df_all[features[1:8]])\n",
    "#y = np.array(df_all[features[8]])\n",
    "\n"
   ]
  },
  {
   "cell_type": "code",
   "execution_count": 24,
   "metadata": {},
   "outputs": [],
   "source": [
    "#Run kmeans\n",
    "kmeans = KMeans(n_clusters=100, random_state=0).fit(X)\n",
    "cluster_labels = kmeans.predict(X)\n"
   ]
  },
  {
   "cell_type": "code",
   "execution_count": 25,
   "metadata": {},
   "outputs": [
    {
     "name": "stdout",
     "output_type": "stream",
     "text": [
      "0\n"
     ]
    },
    {
     "data": {
      "text/plain": [
       "77434"
      ]
     },
     "execution_count": 25,
     "metadata": {},
     "output_type": "execute_result"
    }
   ],
   "source": [
    "#Calcular la moda de labels\n",
    "mode_labels=np.bincount(cluster_labels).argmax()\n",
    "print(mode_labels)\n",
    "#Contar la cantidad de veces que aparece la moda\n",
    "count_mode_labels=np.bincount(cluster_labels).max()\n",
    "count_mode_labels\n",
    "\n"
   ]
  },
  {
   "cell_type": "code",
   "execution_count": 30,
   "metadata": {},
   "outputs": [
    {
     "name": "stdout",
     "output_type": "stream",
     "text": [
      "                            node  label  cluster\n",
      "0                        0.0.0.0    0.0        0\n",
      "1                  1.112.136.153    0.0        0\n",
      "2                   1.112.14.246    0.0        0\n",
      "3                    1.112.94.89    0.0        0\n",
      "4                   1.113.55.185    0.0        0\n",
      "...                          ...    ...      ...\n",
      "79337               99.98.189.15    0.0        0\n",
      "79338              99.98.213.223    0.0        0\n",
      "79339                99.99.37.39    0.0        0\n",
      "79340  fe80::f180:4f5c:7d4a:bbd7    0.0        0\n",
      "79341                  ff02::1:3    0.0        0\n",
      "\n",
      "[79342 rows x 3 columns]\n"
     ]
    }
   ],
   "source": [
    "df_all['cluster'] = cluster_labels\n",
    "#Save only cluster, label and node columns\n",
    "df_results = df_all[['node','label','cluster']]\n",
    "#Save dataframe as a csv\n",
    "df_results.to_csv('../../data/csv/kmeans4_results.csv', index=False)\n",
    "\n"
   ]
  },
  {
   "cell_type": "code",
   "execution_count": 6,
   "metadata": {},
   "outputs": [
    {
     "name": "stdout",
     "output_type": "stream",
     "text": [
      "4\n",
      "9\n",
      "16\n",
      "25\n",
      "36\n",
      "49\n",
      "64\n",
      "81\n",
      "100\n",
      "121\n",
      "144\n",
      "169\n",
      "196\n",
      "225\n"
     ]
    }
   ],
   "source": [
    "#Create an array of numbers from 2 to 15 squared\n",
    "ar=np.arange(2,16)\n",
    "ar=ar**2\n",
    "for i in ar:\n",
    "    print(i)"
   ]
  }
 ],
 "metadata": {
  "kernelspec": {
   "display_name": "Python 3.10.5 ('gt')",
   "language": "python",
   "name": "python3"
  },
  "language_info": {
   "codemirror_mode": {
    "name": "ipython",
    "version": 3
   },
   "file_extension": ".py",
   "mimetype": "text/x-python",
   "name": "python",
   "nbconvert_exporter": "python",
   "pygments_lexer": "ipython3",
   "version": "3.10.5"
  },
  "orig_nbformat": 4,
  "vscode": {
   "interpreter": {
    "hash": "ab0774bc5a671a23b44c29c3e51cb854334b162dabe23a6d8f80d624df21a20b"
   }
  }
 },
 "nbformat": 4,
 "nbformat_minor": 2
}
