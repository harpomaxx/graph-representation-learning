{
 "cells": [
  {
   "cell_type": "code",
   "execution_count": 6,
   "metadata": {},
   "outputs": [],
   "source": [
    "import pandas as pd\n",
    "import json"
   ]
  },
  {
   "cell_type": "code",
   "execution_count": 10,
   "metadata": {},
   "outputs": [],
   "source": [
    "ctuName=\"capture20110815-2.binetflow.labels.gz\"\n",
    "df = pd.read_csv (\"../../data/csv/\"+ctuName+\".features.csv\")\n",
    "BC_ig=list(df[\"BC\"])  #First time we had in csv the igraph BC. Wouldn't work if run again"
   ]
  },
  {
   "cell_type": "code",
   "execution_count": 11,
   "metadata": {},
   "outputs": [],
   "source": [
    "with open(\"BC_gt.json\", 'r') as f:\n",
    "    BC_gt = json.load(f)"
   ]
  },
  {
   "cell_type": "code",
   "execution_count": 12,
   "metadata": {},
   "outputs": [
    {
     "name": "stdout",
     "output_type": "stream",
     "text": [
      "1928445!=1928446\n",
      "40994!=40993\n",
      "23115384!=23115385\n",
      "80091!=80092\n",
      "1848760!=1848761\n",
      "2987384!=2987383\n",
      "40922!=40921\n",
      "517998!=517999\n",
      "203637!=203638\n",
      "40994!=40993\n",
      "40994!=40993\n",
      "639205!=639206\n",
      "1221582!=1221581\n",
      "40992!=40993\n"
     ]
    }
   ],
   "source": [
    "[round(x) for x in BC_ig]==[round(x) for x in BC_gt]\n",
    "for i in range(len(BC_gt)):\n",
    "    if(int(BC_ig[i])!=int(BC_gt[i])):\n",
    "        print(str(int(BC_gt[i]))+\"!=\"+str(int(BC_ig[i])))\n",
    "#Shows the BC  calculations with graph tool differ in decimals with the igraph ones"
   ]
  },
  {
   "cell_type": "code",
   "execution_count": null,
   "metadata": {},
   "outputs": [],
   "source": []
  }
 ],
 "metadata": {
  "kernelspec": {
   "display_name": "Python 3.10.5 ('gt')",
   "language": "python",
   "name": "python3"
  },
  "language_info": {
   "codemirror_mode": {
    "name": "ipython",
    "version": 3
   },
   "file_extension": ".py",
   "mimetype": "text/x-python",
   "name": "python",
   "nbconvert_exporter": "python",
   "pygments_lexer": "ipython3",
   "version": "3.10.5"
  },
  "orig_nbformat": 4,
  "vscode": {
   "interpreter": {
    "hash": "ab0774bc5a671a23b44c29c3e51cb854334b162dabe23a6d8f80d624df21a20b"
   }
  }
 },
 "nbformat": 4,
 "nbformat_minor": 2
}
