{
 "cells": [
  {
   "cell_type": "code",
   "execution_count": 5,
   "metadata": {},
   "outputs": [],
   "source": [
    "import pandas as pd\n",
    "import numpy as np"
   ]
  },
  {
   "cell_type": "code",
   "execution_count": 9,
   "metadata": {},
   "outputs": [
    {
     "name": "stdout",
     "output_type": "stream",
     "text": [
      "                 node  label  cluster\n",
      "6208    147.231.20.13    0.0        2\n",
      "6254   147.32.127.222    0.0        2\n",
      "6369    147.32.84.172    0.0        2\n",
      "6424     147.32.84.59    0.0        3\n",
      "6457    147.32.85.109    0.0        1\n",
      "31399   88.176.79.163    0.0        1\n",
      "44531   147.32.84.130    0.0        2\n",
      "44639    147.32.84.59    0.0        1\n",
      "65265     78.45.1.127    0.0        1\n"
     ]
    }
   ],
   "source": [
    "#Include the path to the csv file\n",
    "df = pd.read_csv('../../data/csv/kmeans/4_results.csv')\n",
    "\n",
    "#I'm not sure if zero cluster is always the bigger so that explains the next:\n",
    "#Get the number of the benign cluster\n",
    "cluster_labels=df['cluster']\n",
    "labels=df['label']\n",
    "benign_cluster=np.bincount(cluster_labels).argmax()\n",
    "\n",
    "#Get number of normal nodes\n",
    "#Count the number of zero labels\n",
    "number_normal=len(labels[labels==0])\n",
    "number_bots=len(labels[labels==1])\n",
    "#Keep only the nodes with cluster!=0\n",
    "Benign_df=df[df['cluster']!=benign_cluster]\n",
    "print(Benign_df)"
   ]
  },
  {
   "cell_type": "code",
   "execution_count": 14,
   "metadata": {},
   "outputs": [
    {
     "name": "stdout",
     "output_type": "stream",
     "text": [
      "9\n",
      "0\n"
     ]
    }
   ],
   "source": [
    "#Sum of nodes with label=0\n",
    "HoB=(Benign_df['label']==0).sum()\n",
    "BoB=(Benign_df['label']==1).sum()\n",
    "print(HoB)\n",
    "print(BoB)"
   ]
  },
  {
   "cell_type": "code",
   "execution_count": null,
   "metadata": {},
   "outputs": [],
   "source": []
  }
 ],
 "metadata": {
  "kernelspec": {
   "display_name": "Python 3.10.5 ('gt')",
   "language": "python",
   "name": "python3"
  },
  "language_info": {
   "codemirror_mode": {
    "name": "ipython",
    "version": 3
   },
   "file_extension": ".py",
   "mimetype": "text/x-python",
   "name": "python",
   "nbconvert_exporter": "python",
   "pygments_lexer": "ipython3",
   "version": "3.10.5"
  },
  "orig_nbformat": 4,
  "vscode": {
   "interpreter": {
    "hash": "ab0774bc5a671a23b44c29c3e51cb854334b162dabe23a6d8f80d624df21a20b"
   }
  }
 },
 "nbformat": 4,
 "nbformat_minor": 2
}
