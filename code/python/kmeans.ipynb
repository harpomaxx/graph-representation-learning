{
 "cells": [
  {
   "cell_type": "code",
   "execution_count": 1,
   "metadata": {},
   "outputs": [],
   "source": [
    "import pandas as pd\n",
    "import numpy as np\n",
    "from sklearn.cluster import KMeans"
   ]
  },
  {
   "cell_type": "code",
   "execution_count": 2,
   "metadata": {},
   "outputs": [
    {
     "data": {
      "text/html": [
       "<div>\n",
       "<style scoped>\n",
       "    .dataframe tbody tr th:only-of-type {\n",
       "        vertical-align: middle;\n",
       "    }\n",
       "\n",
       "    .dataframe tbody tr th {\n",
       "        vertical-align: top;\n",
       "    }\n",
       "\n",
       "    .dataframe thead th {\n",
       "        text-align: right;\n",
       "    }\n",
       "</style>\n",
       "<table border=\"1\" class=\"dataframe\">\n",
       "  <thead>\n",
       "    <tr style=\"text-align: right;\">\n",
       "      <th></th>\n",
       "      <th>node</th>\n",
       "      <th>ID</th>\n",
       "      <th>OD</th>\n",
       "      <th>IDW</th>\n",
       "      <th>ODW</th>\n",
       "      <th>BC</th>\n",
       "      <th>LCC</th>\n",
       "      <th>AC</th>\n",
       "      <th>label</th>\n",
       "    </tr>\n",
       "  </thead>\n",
       "  <tbody>\n",
       "    <tr>\n",
       "      <th>0</th>\n",
       "      <td>0.0.0.0</td>\n",
       "      <td>0</td>\n",
       "      <td>1</td>\n",
       "      <td>0</td>\n",
       "      <td>61058</td>\n",
       "      <td>0.000000</td>\n",
       "      <td>0.000000</td>\n",
       "      <td>1.000000</td>\n",
       "      <td>background</td>\n",
       "    </tr>\n",
       "    <tr>\n",
       "      <th>1</th>\n",
       "      <td>255.255.255.255</td>\n",
       "      <td>6</td>\n",
       "      <td>0</td>\n",
       "      <td>69392</td>\n",
       "      <td>0</td>\n",
       "      <td>0.000000</td>\n",
       "      <td>0.000000</td>\n",
       "      <td>-13495.640605</td>\n",
       "      <td>background</td>\n",
       "    </tr>\n",
       "    <tr>\n",
       "      <th>2</th>\n",
       "      <td>1.1.224.18</td>\n",
       "      <td>1</td>\n",
       "      <td>1</td>\n",
       "      <td>1440</td>\n",
       "      <td>1680</td>\n",
       "      <td>0.000000</td>\n",
       "      <td>0.000000</td>\n",
       "      <td>0.999327</td>\n",
       "      <td>background</td>\n",
       "    </tr>\n",
       "    <tr>\n",
       "      <th>3</th>\n",
       "      <td>147.32.87.27</td>\n",
       "      <td>24</td>\n",
       "      <td>30</td>\n",
       "      <td>726939</td>\n",
       "      <td>20782414</td>\n",
       "      <td>0.000984</td>\n",
       "      <td>0.032184</td>\n",
       "      <td>-0.000047</td>\n",
       "      <td>background</td>\n",
       "    </tr>\n",
       "    <tr>\n",
       "      <th>4</th>\n",
       "      <td>1.114.187.73</td>\n",
       "      <td>1</td>\n",
       "      <td>1</td>\n",
       "      <td>821</td>\n",
       "      <td>951</td>\n",
       "      <td>0.000000</td>\n",
       "      <td>0.000000</td>\n",
       "      <td>0.947675</td>\n",
       "      <td>background</td>\n",
       "    </tr>\n",
       "  </tbody>\n",
       "</table>\n",
       "</div>"
      ],
      "text/plain": [
       "              node  ID  OD     IDW       ODW        BC       LCC  \\\n",
       "0          0.0.0.0   0   1       0     61058  0.000000  0.000000   \n",
       "1  255.255.255.255   6   0   69392         0  0.000000  0.000000   \n",
       "2       1.1.224.18   1   1    1440      1680  0.000000  0.000000   \n",
       "3     147.32.87.27  24  30  726939  20782414  0.000984  0.032184   \n",
       "4     1.114.187.73   1   1     821       951  0.000000  0.000000   \n",
       "\n",
       "             AC       label  \n",
       "0      1.000000  background  \n",
       "1 -13495.640605  background  \n",
       "2      0.999327  background  \n",
       "3     -0.000047  background  \n",
       "4      0.947675  background  "
      ]
     },
     "execution_count": 2,
     "metadata": {},
     "output_type": "execute_result"
    }
   ],
   "source": [
    "features_csv_name=\"capture20110815-2.binetflow.labels-positive-weights.labeled.csv\"\n",
    "df=pd.read_csv('../../data/csv/'+features_csv_name)\n",
    "#Shouldn't we use normalized features here? Does k menas normalize automatically?\n",
    "df.head()"
   ]
  },
  {
   "cell_type": "code",
   "execution_count": 3,
   "metadata": {},
   "outputs": [
    {
     "data": {
      "text/plain": [
       "(41399, 7)"
      ]
     },
     "execution_count": 3,
     "metadata": {},
     "output_type": "execute_result"
    }
   ],
   "source": [
    "#Get dataframe column labels\n",
    "features=df.columns.values\n",
    "X = np.array(df[features[1:8]])\n",
    "y = np.array(df[features[8]])\n",
    "X.shape"
   ]
  },
  {
   "cell_type": "code",
   "execution_count": 34,
   "metadata": {},
   "outputs": [],
   "source": [
    "kmeans = KMeans(n_clusters=200,max_iter=10000,random_state=0).fit(X)\n",
    "labels = kmeans.predict(X)"
   ]
  },
  {
   "cell_type": "code",
   "execution_count": 35,
   "metadata": {},
   "outputs": [
    {
     "name": "stdout",
     "output_type": "stream",
     "text": [
      "0\n"
     ]
    },
    {
     "data": {
      "text/plain": [
       "38873"
      ]
     },
     "execution_count": 35,
     "metadata": {},
     "output_type": "execute_result"
    }
   ],
   "source": [
    "#Calcular la moda de labels\n",
    "mode_labels=np.bincount(labels).argmax()\n",
    "print(mode_labels)\n",
    "#Contar la cantidad de veces que aparece la moda\n",
    "count_mode_labels=np.bincount(labels).max()\n",
    "count_mode_labels\n"
   ]
  }
 ],
 "metadata": {
  "kernelspec": {
   "display_name": "Python 3.8.8 ('base')",
   "language": "python",
   "name": "python3"
  },
  "language_info": {
   "codemirror_mode": {
    "name": "ipython",
    "version": 3
   },
   "file_extension": ".py",
   "mimetype": "text/x-python",
   "name": "python",
   "nbconvert_exporter": "python",
   "pygments_lexer": "ipython3",
   "version": "3.8.8"
  },
  "orig_nbformat": 4,
  "vscode": {
   "interpreter": {
    "hash": "e841ff1bfe577a27c6325d838a49a1521ea74b11fdd3bafd9eb0c569cfeb28d8"
   }
  }
 },
 "nbformat": 4,
 "nbformat_minor": 2
}
