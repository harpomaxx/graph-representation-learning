{
 "cells": [
  {
   "cell_type": "code",
   "execution_count": 1,
   "metadata": {},
   "outputs": [],
   "source": [
    "import pandas as pd\n",
    "import numpy as np\n",
    "from sklearn.cluster import KMeans\n",
    "import os\n",
    "\n",
    "#Create an empty dataframe\n",
    "df_all = pd.DataFrame()\n",
    "\n",
    "for root, dirs, files in os.walk(\"../../data/csv\"):\n",
    "    for ctuName in files:\n",
    "        if(ctuName.find(\".gz\")+1 or ctuName.find('capture20110817')+1):\n",
    "            continue\n",
    "\n",
    "        df=pd.read_csv('../../data/csv/'+ctuName)\n",
    "        #BC already normalized\n",
    "        #Normalize ID, OD, IDW, ODW, AC\n",
    "        for col in ['ID','OD','IDW','ODW','AC']:\n",
    "            df[col]=(df[col]-df[col].min())/(df[col].max()-df[col].min())\n",
    "        #Add df values to df_all\n",
    "        df_all = df_all.append(df)"
   ]
  },
  {
   "cell_type": "code",
   "execution_count": 2,
   "metadata": {},
   "outputs": [
    {
     "data": {
      "text/plain": [
       "(2874213, 9)"
      ]
     },
     "execution_count": 2,
     "metadata": {},
     "output_type": "execute_result"
    }
   ],
   "source": [
    "#Get df_all size\n",
    "df_all.shape\n",
    "#We are getting 2.874.213 rows instead of 2.887.787(paper). This is because we dropped some comunications in different protocols. "
   ]
  },
  {
   "cell_type": "code",
   "execution_count": 3,
   "metadata": {},
   "outputs": [],
   "source": [
    "#Get dataframe column labels\n",
    "features=df_all.columns.values\n",
    "X = np.array(df_all[features[1:8]])\n",
    "y = np.array(df_all[features[8]])\n",
    "\n"
   ]
  },
  {
   "cell_type": "code",
   "execution_count": 4,
   "metadata": {},
   "outputs": [],
   "source": [
    "#Run kmeans\n",
    "kmeans = KMeans(n_clusters=4, random_state=0).fit(X)\n",
    "labels = kmeans.predict(X)\n"
   ]
  },
  {
   "cell_type": "code",
   "execution_count": 5,
   "metadata": {},
   "outputs": [
    {
     "name": "stdout",
     "output_type": "stream",
     "text": [
      "0\n"
     ]
    },
    {
     "data": {
      "text/plain": [
       "1115561"
      ]
     },
     "execution_count": 5,
     "metadata": {},
     "output_type": "execute_result"
    }
   ],
   "source": [
    "#Calcular la moda de labels\n",
    "mode_labels=np.bincount(labels).argmax()\n",
    "print(mode_labels)\n",
    "#Contar la cantidad de veces que aparece la moda\n",
    "count_mode_labels=np.bincount(labels).max()\n",
    "count_mode_labels\n"
   ]
  },
  {
   "cell_type": "code",
   "execution_count": 6,
   "metadata": {},
   "outputs": [
    {
     "name": "stdout",
     "output_type": "stream",
     "text": [
      "4\n",
      "9\n",
      "16\n",
      "25\n",
      "36\n",
      "49\n",
      "64\n",
      "81\n",
      "100\n",
      "121\n",
      "144\n",
      "169\n",
      "196\n",
      "225\n"
     ]
    }
   ],
   "source": [
    "#Create an array of numbers from 2 to 15 squared\n",
    "ar=np.arange(2,16)\n",
    "ar=ar**2\n",
    "for i in ar:\n",
    "    print(i)"
   ]
  }
 ],
 "metadata": {
  "kernelspec": {
   "display_name": "Python 3.8.8 ('base')",
   "language": "python",
   "name": "python3"
  },
  "language_info": {
   "codemirror_mode": {
    "name": "ipython",
    "version": 3
   },
   "file_extension": ".py",
   "mimetype": "text/x-python",
   "name": "python",
   "nbconvert_exporter": "python",
   "pygments_lexer": "ipython3",
   "version": "3.8.8"
  },
  "orig_nbformat": 4,
  "vscode": {
   "interpreter": {
    "hash": "e841ff1bfe577a27c6325d838a49a1521ea74b11fdd3bafd9eb0c569cfeb28d8"
   }
  }
 },
 "nbformat": 4,
 "nbformat_minor": 2
}
