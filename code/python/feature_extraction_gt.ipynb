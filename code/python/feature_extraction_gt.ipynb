{
 "cells": [
  {
   "cell_type": "code",
   "execution_count": 4,
   "id": "3ae68f74",
   "metadata": {},
   "outputs": [],
   "source": [
    "import graph_tool.all as gt\n",
    "#import pandas as pd\n",
    "#19-4:\n",
    "#Chequear que esten dando el mismo BC con igraph\n",
    "#Apparently not right order of nodes, but values seem similar"
   ]
  },
  {
   "cell_type": "code",
   "execution_count": 5,
   "id": "7f1811b4",
   "metadata": {},
   "outputs": [],
   "source": [
    "g=gt.Graph()\n",
    "ctuName=\"capture20110815-2.binetflow.labels.gz\"\n",
    "g= gt.load_graph(\"../../data/graphml/\"+ctuName+\".graphml\")"
   ]
  },
  {
   "cell_type": "code",
   "execution_count": 37,
   "id": "40195939",
   "metadata": {},
   "outputs": [
    {
     "data": {
      "text/plain": [
       "<EdgePropertyMap object with value type 'long double', for Graph 0x7fc43261c3d0, at 0x7fc4b831b5e0>"
      ]
     },
     "execution_count": 37,
     "metadata": {},
     "output_type": "execute_result"
    }
   ],
   "source": [
    "#for v in g.vertices():\n",
    " #   print(g.vp.name[v])\n",
    "#for e in g.edges():\n",
    " #   print(g.ep.Bytes[e])\n",
    " #g.list_properties()\n",
    " #gt.graph_draw(g, vertex_text=g.vertex_index)\n"
   ]
  },
  {
   "cell_type": "code",
   "execution_count": 38,
   "id": "d617340e",
   "metadata": {},
   "outputs": [],
   "source": [
    "bv, be = gt.betweenness(g,weight=g.ep.Bytes,norm=False)\n",
    "# 2:12 min\n"
   ]
  },
  {
   "cell_type": "code",
   "execution_count": 40,
   "id": "8dd70744",
   "metadata": {},
   "outputs": [],
   "source": [
    "BC=[]\n",
    "for v in g.vertices():\n",
    "    BC.append(bv[v])"
   ]
  },
  {
   "cell_type": "code",
   "execution_count": 41,
   "id": "fee2386f",
   "metadata": {},
   "outputs": [],
   "source": [
    "import json\n",
    "\n",
    "with open(\"BC_gt.json\", 'w') as f:\n",
    "    json.dump(BC, f, indent=2) \n",
    "\n"
   ]
  },
  {
   "cell_type": "markdown",
   "id": "6b5ae381",
   "metadata": {},
   "source": [
    "## Feature calculations"
   ]
  },
  {
   "cell_type": "markdown",
   "id": "ffcca782",
   "metadata": {},
   "source": [
    "## CSV export"
   ]
  },
  {
   "cell_type": "code",
   "execution_count": 8,
   "id": "4e974612",
   "metadata": {},
   "outputs": [
    {
     "data": {
      "text/html": [
       "<div>\n",
       "<style scoped>\n",
       "    .dataframe tbody tr th:only-of-type {\n",
       "        vertical-align: middle;\n",
       "    }\n",
       "\n",
       "    .dataframe tbody tr th {\n",
       "        vertical-align: top;\n",
       "    }\n",
       "\n",
       "    .dataframe thead th {\n",
       "        text-align: right;\n",
       "    }\n",
       "</style>\n",
       "<table border=\"1\" class=\"dataframe\">\n",
       "  <thead>\n",
       "    <tr style=\"text-align: right;\">\n",
       "      <th></th>\n",
       "      <th>node</th>\n",
       "      <th>ID</th>\n",
       "      <th>OD</th>\n",
       "      <th>IDW</th>\n",
       "      <th>ODW</th>\n",
       "      <th>BC</th>\n",
       "      <th>LCC</th>\n",
       "      <th>label</th>\n",
       "    </tr>\n",
       "  </thead>\n",
       "  <tbody>\n",
       "    <tr>\n",
       "      <th>0</th>\n",
       "      <td>0.0.0.0</td>\n",
       "      <td>0</td>\n",
       "      <td>1</td>\n",
       "      <td>0.0</td>\n",
       "      <td>61058.0</td>\n",
       "      <td>0.0</td>\n",
       "      <td>0.000000</td>\n",
       "      <td>normal</td>\n",
       "    </tr>\n",
       "    <tr>\n",
       "      <th>1</th>\n",
       "      <td>255.255.255.255</td>\n",
       "      <td>6</td>\n",
       "      <td>0</td>\n",
       "      <td>69392.0</td>\n",
       "      <td>0.0</td>\n",
       "      <td>0.0</td>\n",
       "      <td>0.066667</td>\n",
       "      <td>normal</td>\n",
       "    </tr>\n",
       "    <tr>\n",
       "      <th>2</th>\n",
       "      <td>00:15:17:2c:e5:2d</td>\n",
       "      <td>0</td>\n",
       "      <td>1</td>\n",
       "      <td>0.0</td>\n",
       "      <td>26452.0</td>\n",
       "      <td>0.0</td>\n",
       "      <td>0.000000</td>\n",
       "      <td>normal</td>\n",
       "    </tr>\n",
       "    <tr>\n",
       "      <th>3</th>\n",
       "      <td>ff:ff:ff:ff:ff:ff</td>\n",
       "      <td>1</td>\n",
       "      <td>0</td>\n",
       "      <td>26452.0</td>\n",
       "      <td>0.0</td>\n",
       "      <td>0.0</td>\n",
       "      <td>0.000000</td>\n",
       "      <td>normal</td>\n",
       "    </tr>\n",
       "    <tr>\n",
       "      <th>4</th>\n",
       "      <td>1.1.224.18</td>\n",
       "      <td>1</td>\n",
       "      <td>1</td>\n",
       "      <td>1440.0</td>\n",
       "      <td>1680.0</td>\n",
       "      <td>0.0</td>\n",
       "      <td>0.000000</td>\n",
       "      <td>normal</td>\n",
       "    </tr>\n",
       "    <tr>\n",
       "      <th>...</th>\n",
       "      <td>...</td>\n",
       "      <td>...</td>\n",
       "      <td>...</td>\n",
       "      <td>...</td>\n",
       "      <td>...</td>\n",
       "      <td>...</td>\n",
       "      <td>...</td>\n",
       "      <td>...</td>\n",
       "    </tr>\n",
       "    <tr>\n",
       "      <th>41653</th>\n",
       "      <td>fe80::7272:cfff:fe1b:d243</td>\n",
       "      <td>0</td>\n",
       "      <td>1</td>\n",
       "      <td>0.0</td>\n",
       "      <td>550.0</td>\n",
       "      <td>0.0</td>\n",
       "      <td>0.000000</td>\n",
       "      <td>normal</td>\n",
       "    </tr>\n",
       "    <tr>\n",
       "      <th>41654</th>\n",
       "      <td>ff02::1</td>\n",
       "      <td>1</td>\n",
       "      <td>0</td>\n",
       "      <td>550.0</td>\n",
       "      <td>0.0</td>\n",
       "      <td>0.0</td>\n",
       "      <td>0.000000</td>\n",
       "      <td>normal</td>\n",
       "    </tr>\n",
       "    <tr>\n",
       "      <th>41655</th>\n",
       "      <td>fe80::d036:46ef:ad35:fc09</td>\n",
       "      <td>0</td>\n",
       "      <td>1</td>\n",
       "      <td>0.0</td>\n",
       "      <td>172.0</td>\n",
       "      <td>0.0</td>\n",
       "      <td>0.000000</td>\n",
       "      <td>normal</td>\n",
       "    </tr>\n",
       "    <tr>\n",
       "      <th>41656</th>\n",
       "      <td>fe80::f180:4f5c:7d4a:bbd7</td>\n",
       "      <td>0</td>\n",
       "      <td>2</td>\n",
       "      <td>0.0</td>\n",
       "      <td>254.0</td>\n",
       "      <td>0.0</td>\n",
       "      <td>0.000000</td>\n",
       "      <td>normal</td>\n",
       "    </tr>\n",
       "    <tr>\n",
       "      <th>41657</th>\n",
       "      <td>ff02::1:3</td>\n",
       "      <td>1</td>\n",
       "      <td>0</td>\n",
       "      <td>168.0</td>\n",
       "      <td>0.0</td>\n",
       "      <td>0.0</td>\n",
       "      <td>0.000000</td>\n",
       "      <td>normal</td>\n",
       "    </tr>\n",
       "  </tbody>\n",
       "</table>\n",
       "<p>41658 rows × 8 columns</p>\n",
       "</div>"
      ],
      "text/plain": [
       "                            node  ID  OD      IDW      ODW   BC       LCC  \\\n",
       "0                        0.0.0.0   0   1      0.0  61058.0  0.0  0.000000   \n",
       "1                255.255.255.255   6   0  69392.0      0.0  0.0  0.066667   \n",
       "2              00:15:17:2c:e5:2d   0   1      0.0  26452.0  0.0  0.000000   \n",
       "3              ff:ff:ff:ff:ff:ff   1   0  26452.0      0.0  0.0  0.000000   \n",
       "4                     1.1.224.18   1   1   1440.0   1680.0  0.0  0.000000   \n",
       "...                          ...  ..  ..      ...      ...  ...       ...   \n",
       "41653  fe80::7272:cfff:fe1b:d243   0   1      0.0    550.0  0.0  0.000000   \n",
       "41654                    ff02::1   1   0    550.0      0.0  0.0  0.000000   \n",
       "41655  fe80::d036:46ef:ad35:fc09   0   1      0.0    172.0  0.0  0.000000   \n",
       "41656  fe80::f180:4f5c:7d4a:bbd7   0   2      0.0    254.0  0.0  0.000000   \n",
       "41657                  ff02::1:3   1   0    168.0      0.0  0.0  0.000000   \n",
       "\n",
       "        label  \n",
       "0      normal  \n",
       "1      normal  \n",
       "2      normal  \n",
       "3      normal  \n",
       "4      normal  \n",
       "...       ...  \n",
       "41653  normal  \n",
       "41654  normal  \n",
       "41655  normal  \n",
       "41656  normal  \n",
       "41657  normal  \n",
       "\n",
       "[41658 rows x 8 columns]"
      ]
     },
     "execution_count": 8,
     "metadata": {},
     "output_type": "execute_result"
    }
   ],
   "source": [
    "df = pd.DataFrame()\n",
    "df['node']=g.vs['name']\n",
    "df['ID']=ID\n",
    "df['OD']=OD\n",
    "df['IDW']=IDW\n",
    "df['ODW']=ODW\n",
    "df['BC']=BC\n",
    "df['LCC']=LCC\n",
    "#df['AC']=AC\n",
    "df['label']=\"normal\"\n",
    "for ip in botnets:\n",
    "    df.loc[df[\"node\"] == ip, [\"label\"]] = \"botnet\"\n",
    "df"
   ]
  },
  {
   "cell_type": "code",
   "execution_count": 10,
   "id": "c37a78b1",
   "metadata": {},
   "outputs": [],
   "source": [
    "df.to_csv(\"../../data/csv/\"+ctuName+\".features.csv\") #pay attention not to save the dataframe ids "
   ]
  },
  {
   "cell_type": "code",
   "execution_count": null,
   "id": "33ec8347",
   "metadata": {},
   "outputs": [],
   "source": []
  }
 ],
 "metadata": {
  "kernelspec": {
   "display_name": "Python 3",
   "language": "python",
   "name": "python3"
  },
  "language_info": {
   "codemirror_mode": {
    "name": "ipython",
    "version": 3
   },
   "file_extension": ".py",
   "mimetype": "text/x-python",
   "name": "python",
   "nbconvert_exporter": "python",
   "pygments_lexer": "ipython3",
   "version": "3.10.4"
  }
 },
 "nbformat": 4,
 "nbformat_minor": 5
}
