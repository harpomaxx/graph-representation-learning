{
 "cells": [
  {
   "cell_type": "code",
   "execution_count": 1,
   "id": "3ae68f74",
   "metadata": {},
   "outputs": [],
   "source": [
    "import igraph as ig\n",
    "import pandas as pd"
   ]
  },
  {
   "cell_type": "code",
   "execution_count": 10,
   "id": "7f1811b4",
   "metadata": {},
   "outputs": [
    {
     "ename": "FileNotFoundError",
     "evalue": "[Errno 2] No such file or directory: '../../data/ncol/capture20110815-2.binetflow.labels.gz.ncol'",
     "output_type": "error",
     "traceback": [
      "\u001b[1;31m---------------------------------------------------------------------------\u001b[0m",
      "\u001b[1;31mFileNotFoundError\u001b[0m                         Traceback (most recent call last)",
      "\u001b[1;32m<ipython-input-10-410e1ce35bad>\u001b[0m in \u001b[0;36m<module>\u001b[1;34m\u001b[0m\n\u001b[0;32m      1\u001b[0m \u001b[0mg\u001b[0m\u001b[1;33m=\u001b[0m\u001b[0mig\u001b[0m\u001b[1;33m.\u001b[0m\u001b[0mGraph\u001b[0m\u001b[1;33m(\u001b[0m\u001b[1;33m)\u001b[0m\u001b[1;33m\u001b[0m\u001b[1;33m\u001b[0m\u001b[0m\n\u001b[0;32m      2\u001b[0m \u001b[0mctuName\u001b[0m\u001b[1;33m=\u001b[0m\u001b[1;34m\"capture20110815-2.binetflow.labels.gz\"\u001b[0m\u001b[1;33m\u001b[0m\u001b[1;33m\u001b[0m\u001b[0m\n\u001b[1;32m----> 3\u001b[1;33m \u001b[0mg\u001b[0m\u001b[1;33m=\u001b[0m\u001b[0mg\u001b[0m\u001b[1;33m.\u001b[0m\u001b[0mRead_Ncol\u001b[0m\u001b[1;33m(\u001b[0m\u001b[1;34m\"../../data/ncol/\"\u001b[0m\u001b[1;33m+\u001b[0m\u001b[0mctuName\u001b[0m\u001b[1;33m+\u001b[0m\u001b[1;34m\".ncol\"\u001b[0m\u001b[1;33m,\u001b[0m \u001b[0mnames\u001b[0m\u001b[1;33m=\u001b[0m\u001b[1;32mTrue\u001b[0m\u001b[1;33m,\u001b[0m \u001b[0mweights\u001b[0m\u001b[1;33m=\u001b[0m\u001b[1;34m'if_present'\u001b[0m\u001b[1;33m,\u001b[0m \u001b[0mdirected\u001b[0m\u001b[1;33m=\u001b[0m\u001b[1;32mTrue\u001b[0m\u001b[1;33m)\u001b[0m\u001b[1;33m\u001b[0m\u001b[1;33m\u001b[0m\u001b[0m\n\u001b[0m",
      "\u001b[1;31mFileNotFoundError\u001b[0m: [Errno 2] No such file or directory: '../../data/ncol/capture20110815-2.binetflow.labels.gz.ncol'"
     ]
    }
   ],
   "source": [
    "g=ig.Graph()\n",
    "ctuName=\"capture20110815-2.binetflow.labels.gz\"\n",
    "g=g.Read_Ncol(\"../../data/ncol/\"+ctuName+\".ncol\", names=True, weights='if_present', directed=True)"
   ]
  },
  {
   "cell_type": "code",
   "execution_count": 3,
   "id": "40195939",
   "metadata": {},
   "outputs": [
    {
     "name": "stdout",
     "output_type": "stream",
     "text": [
      "IGRAPH DNW- 41658 87134 -- \n",
      "+ attr: name (v), weight (e)\n"
     ]
    }
   ],
   "source": [
    "ig.summary(g)"
   ]
  },
  {
   "cell_type": "markdown",
   "id": "6b5ae381",
   "metadata": {},
   "source": [
    "## Feature calculations"
   ]
  },
  {
   "cell_type": "code",
   "execution_count": 4,
   "id": "67de229e",
   "metadata": {},
   "outputs": [],
   "source": [
    "ID=g.degree(mode=\"in\") \n",
    "OD=g.degree(mode=\"out\")\n",
    "IDW=g.strength(mode=\"in\",weights=\"weight\")\n",
    "ODW=g.strength(mode=\"out\",weights=\"weight\")\n",
    "LCC=g.transitivity_local_undirected(mode='zero') #There exists a Weighted alternative. In the paper they don't consider weights\n",
    "#Mode zero because we can't make use of nan in a column for ML.(Verify)\n"
   ]
  },
  {
   "cell_type": "code",
   "execution_count": 5,
   "id": "5fff487f",
   "metadata": {},
   "outputs": [],
   "source": [
    "#AC"
   ]
  },
  {
   "cell_type": "code",
   "execution_count": 6,
   "id": "2fd58614",
   "metadata": {},
   "outputs": [],
   "source": [
    "BC=g.betweenness(directed=True,weights=\"weight\")\n",
    "#Most little capture\n",
    "#Running time no multiprocessing, local pc: 11 min\n",
    "#samson running time: "
   ]
  },
  {
   "cell_type": "code",
   "execution_count": 7,
   "id": "8a5cfa86",
   "metadata": {},
   "outputs": [],
   "source": [
    "botnets=[\"147.32.84.165\"]"
   ]
  },
  {
   "cell_type": "markdown",
   "id": "ffcca782",
   "metadata": {},
   "source": [
    "## CSV export"
   ]
  },
  {
   "cell_type": "code",
   "execution_count": 8,
   "id": "4e974612",
   "metadata": {},
   "outputs": [
    {
     "data": {
      "text/html": [
       "<div>\n",
       "<style scoped>\n",
       "    .dataframe tbody tr th:only-of-type {\n",
       "        vertical-align: middle;\n",
       "    }\n",
       "\n",
       "    .dataframe tbody tr th {\n",
       "        vertical-align: top;\n",
       "    }\n",
       "\n",
       "    .dataframe thead th {\n",
       "        text-align: right;\n",
       "    }\n",
       "</style>\n",
       "<table border=\"1\" class=\"dataframe\">\n",
       "  <thead>\n",
       "    <tr style=\"text-align: right;\">\n",
       "      <th></th>\n",
       "      <th>node</th>\n",
       "      <th>ID</th>\n",
       "      <th>OD</th>\n",
       "      <th>IDW</th>\n",
       "      <th>ODW</th>\n",
       "      <th>BC</th>\n",
       "      <th>LCC</th>\n",
       "      <th>label</th>\n",
       "    </tr>\n",
       "  </thead>\n",
       "  <tbody>\n",
       "    <tr>\n",
       "      <th>0</th>\n",
       "      <td>0.0.0.0</td>\n",
       "      <td>0</td>\n",
       "      <td>1</td>\n",
       "      <td>0.0</td>\n",
       "      <td>61058.0</td>\n",
       "      <td>0.0</td>\n",
       "      <td>0.000000</td>\n",
       "      <td>normal</td>\n",
       "    </tr>\n",
       "    <tr>\n",
       "      <th>1</th>\n",
       "      <td>255.255.255.255</td>\n",
       "      <td>6</td>\n",
       "      <td>0</td>\n",
       "      <td>69392.0</td>\n",
       "      <td>0.0</td>\n",
       "      <td>0.0</td>\n",
       "      <td>0.066667</td>\n",
       "      <td>normal</td>\n",
       "    </tr>\n",
       "    <tr>\n",
       "      <th>2</th>\n",
       "      <td>00:15:17:2c:e5:2d</td>\n",
       "      <td>0</td>\n",
       "      <td>1</td>\n",
       "      <td>0.0</td>\n",
       "      <td>26452.0</td>\n",
       "      <td>0.0</td>\n",
       "      <td>0.000000</td>\n",
       "      <td>normal</td>\n",
       "    </tr>\n",
       "    <tr>\n",
       "      <th>3</th>\n",
       "      <td>ff:ff:ff:ff:ff:ff</td>\n",
       "      <td>1</td>\n",
       "      <td>0</td>\n",
       "      <td>26452.0</td>\n",
       "      <td>0.0</td>\n",
       "      <td>0.0</td>\n",
       "      <td>0.000000</td>\n",
       "      <td>normal</td>\n",
       "    </tr>\n",
       "    <tr>\n",
       "      <th>4</th>\n",
       "      <td>1.1.224.18</td>\n",
       "      <td>1</td>\n",
       "      <td>1</td>\n",
       "      <td>1440.0</td>\n",
       "      <td>1680.0</td>\n",
       "      <td>0.0</td>\n",
       "      <td>0.000000</td>\n",
       "      <td>normal</td>\n",
       "    </tr>\n",
       "    <tr>\n",
       "      <th>...</th>\n",
       "      <td>...</td>\n",
       "      <td>...</td>\n",
       "      <td>...</td>\n",
       "      <td>...</td>\n",
       "      <td>...</td>\n",
       "      <td>...</td>\n",
       "      <td>...</td>\n",
       "      <td>...</td>\n",
       "    </tr>\n",
       "    <tr>\n",
       "      <th>41653</th>\n",
       "      <td>fe80::7272:cfff:fe1b:d243</td>\n",
       "      <td>0</td>\n",
       "      <td>1</td>\n",
       "      <td>0.0</td>\n",
       "      <td>550.0</td>\n",
       "      <td>0.0</td>\n",
       "      <td>0.000000</td>\n",
       "      <td>normal</td>\n",
       "    </tr>\n",
       "    <tr>\n",
       "      <th>41654</th>\n",
       "      <td>ff02::1</td>\n",
       "      <td>1</td>\n",
       "      <td>0</td>\n",
       "      <td>550.0</td>\n",
       "      <td>0.0</td>\n",
       "      <td>0.0</td>\n",
       "      <td>0.000000</td>\n",
       "      <td>normal</td>\n",
       "    </tr>\n",
       "    <tr>\n",
       "      <th>41655</th>\n",
       "      <td>fe80::d036:46ef:ad35:fc09</td>\n",
       "      <td>0</td>\n",
       "      <td>1</td>\n",
       "      <td>0.0</td>\n",
       "      <td>172.0</td>\n",
       "      <td>0.0</td>\n",
       "      <td>0.000000</td>\n",
       "      <td>normal</td>\n",
       "    </tr>\n",
       "    <tr>\n",
       "      <th>41656</th>\n",
       "      <td>fe80::f180:4f5c:7d4a:bbd7</td>\n",
       "      <td>0</td>\n",
       "      <td>2</td>\n",
       "      <td>0.0</td>\n",
       "      <td>254.0</td>\n",
       "      <td>0.0</td>\n",
       "      <td>0.000000</td>\n",
       "      <td>normal</td>\n",
       "    </tr>\n",
       "    <tr>\n",
       "      <th>41657</th>\n",
       "      <td>ff02::1:3</td>\n",
       "      <td>1</td>\n",
       "      <td>0</td>\n",
       "      <td>168.0</td>\n",
       "      <td>0.0</td>\n",
       "      <td>0.0</td>\n",
       "      <td>0.000000</td>\n",
       "      <td>normal</td>\n",
       "    </tr>\n",
       "  </tbody>\n",
       "</table>\n",
       "<p>41658 rows × 8 columns</p>\n",
       "</div>"
      ],
      "text/plain": [
       "                            node  ID  OD      IDW      ODW   BC       LCC  \\\n",
       "0                        0.0.0.0   0   1      0.0  61058.0  0.0  0.000000   \n",
       "1                255.255.255.255   6   0  69392.0      0.0  0.0  0.066667   \n",
       "2              00:15:17:2c:e5:2d   0   1      0.0  26452.0  0.0  0.000000   \n",
       "3              ff:ff:ff:ff:ff:ff   1   0  26452.0      0.0  0.0  0.000000   \n",
       "4                     1.1.224.18   1   1   1440.0   1680.0  0.0  0.000000   \n",
       "...                          ...  ..  ..      ...      ...  ...       ...   \n",
       "41653  fe80::7272:cfff:fe1b:d243   0   1      0.0    550.0  0.0  0.000000   \n",
       "41654                    ff02::1   1   0    550.0      0.0  0.0  0.000000   \n",
       "41655  fe80::d036:46ef:ad35:fc09   0   1      0.0    172.0  0.0  0.000000   \n",
       "41656  fe80::f180:4f5c:7d4a:bbd7   0   2      0.0    254.0  0.0  0.000000   \n",
       "41657                  ff02::1:3   1   0    168.0      0.0  0.0  0.000000   \n",
       "\n",
       "        label  \n",
       "0      normal  \n",
       "1      normal  \n",
       "2      normal  \n",
       "3      normal  \n",
       "4      normal  \n",
       "...       ...  \n",
       "41653  normal  \n",
       "41654  normal  \n",
       "41655  normal  \n",
       "41656  normal  \n",
       "41657  normal  \n",
       "\n",
       "[41658 rows x 8 columns]"
      ]
     },
     "execution_count": 8,
     "metadata": {},
     "output_type": "execute_result"
    }
   ],
   "source": [
    "df = pd.DataFrame()\n",
    "df['node']=g.vs['name']\n",
    "df['ID']=ID\n",
    "df['OD']=OD\n",
    "df['IDW']=IDW\n",
    "df['ODW']=ODW\n",
    "df['BC']=BC\n",
    "df['LCC']=LCC\n",
    "#df['AC']=AC\n",
    "df['label']=\"normal\"\n",
    "for ip in botnets:\n",
    "    df.loc[df[\"node\"] == ip, [\"label\"]] = \"botnet\"\n",
    "df"
   ]
  },
  {
   "cell_type": "code",
   "execution_count": 11,
   "id": "c37a78b1",
   "metadata": {},
   "outputs": [],
   "source": [
    "df.to_csv(\"../../data/csv/\"+ctuName+\".features.csv\") #pay attention not to save the dataframe ids "
   ]
  },
  {
   "cell_type": "code",
   "execution_count": null,
   "id": "33ec8347",
   "metadata": {},
   "outputs": [],
   "source": []
  }
 ],
 "metadata": {
  "kernelspec": {
   "display_name": "Python 3",
   "language": "python",
   "name": "python3"
  },
  "language_info": {
   "codemirror_mode": {
    "name": "ipython",
    "version": 3
   },
   "file_extension": ".py",
   "mimetype": "text/x-python",
   "name": "python",
   "nbconvert_exporter": "python",
   "pygments_lexer": "ipython3",
   "version": "3.8.8"
  }
 },
 "nbformat": 4,
 "nbformat_minor": 5
}
