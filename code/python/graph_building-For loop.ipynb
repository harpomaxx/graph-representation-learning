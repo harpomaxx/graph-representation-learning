{
 "cells": [
  {
   "cell_type": "code",
   "execution_count": 1,
   "id": "d127f043",
   "metadata": {},
   "outputs": [],
   "source": [
    "import pandas as pd\n",
    "import igraph as ig\n",
    "import os\n",
    "import ipaddress\n",
    "\n",
    "def ip_read(ip_str):\n",
    "    aux_str=ip_str \n",
    "    if aux_str.count(\":\")==5:#For ipaddress to work for 6 bytes directions too\n",
    "        ip=int(ipaddress.ip_address('00:00:'+ip_str))\n",
    "    else:\n",
    "        ip=int(ipaddress.ip_address(ip_str))\n",
    "    return ip"
   ]
  },
  {
   "cell_type": "code",
   "execution_count": 2,
   "id": "e6b9aa6f",
   "metadata": {
    "scrolled": true
   },
   "outputs": [
    {
     "name": "stdout",
     "output_type": "stream",
     "text": [
      "capture20110810.binetflow.labels.gz.ncol done\n",
      "capture20110811.binetflow.labels.gz.ncol done\n",
      "capture20110812.binetflow.labels.gz.ncol done\n",
      "capture20110815-2.binetflow.labels.gz.ncol done\n",
      "capture20110815-3.binetflow.labels.gz.ncol done\n",
      "capture20110815.binetflow.labels.gz.ncol done\n",
      "capture20110816-2.binetflow.labels.gz.ncol done\n",
      "capture20110816-3.binetflow.labels.gz.ncol done\n",
      "capture20110816.binetflow.labels.gz.ncol done\n",
      "capture20110817.binetflow.labels.gz.ncol done\n",
      "capture20110818-2.binetflow.labels.gz.ncol done\n",
      "capture20110818.binetflow.labels.gz.ncol done\n",
      "capture20110819.binetflow.labels.gz.ncol done\n"
     ]
    }
   ],
   "source": [
    "for root, dirs, files in os.walk(\"../../rawdata/ctu-13\"):\n",
    "    for ctuName in files:\n",
    "        if(ctuName.find(\".dvc\")+1 or ctuName.find(\".gitignore\")+1 or ctuName.find(\".md\")+1):\n",
    "            continue\n",
    "\n",
    "        df=pd.read_csv('../../rawdata/ctu-13/'+ctuName)\n",
    "\n",
    "        df=df[[\"SrcAddr\",\"DstAddr\",\"TotBytes\",\"SrcBytes\"]]\n",
    "        df[\"DstBytes\"]=df[\"TotBytes\"]-df[\"SrcBytes\"]\n",
    "        df.drop('TotBytes',inplace=True, axis=1)\n",
    "\n",
    "                \n",
    "        idx=df['SrcAddr'].transform(ip_read)>df['DstAddr'].transform(ip_read) #Indexes where src>dst ips\n",
    "\n",
    "        aux=df[idx]['SrcBytes'].copy() #Reorder bytes according to new address order\n",
    "        df.loc[idx,'SrcBytes']=df[idx]['DstBytes']\n",
    "        df.loc[idx,'DstBytes']=aux\n",
    "\n",
    "        aux=df[idx]['SrcAddr'].copy()  #Reorders addresses\n",
    "        df.loc[idx,'SrcAddr']=df[idx]['DstAddr']\n",
    "        df.loc[idx,'DstAddr']=aux\n",
    "\n",
    "        df_gb=df.groupby(['SrcAddr','DstAddr'])\n",
    "        df_agg=df_gb.agg({\n",
    "            'SrcBytes':'sum',\n",
    "            'DstBytes':'sum'\n",
    "        })\n",
    "        df=df_agg.reset_index()\n",
    "\n",
    "\n",
    "        df21=df[[\"SrcAddr\",\"DstAddr\",\"SrcBytes\"]].rename(columns={\"SrcBytes\":\"Bytes\"})#src to dst edges\n",
    "        df22=df[[\"DstAddr\",\"SrcAddr\",\"DstBytes\"]].rename(columns={\"DstBytes\":\"Bytes\",\"DstAddr\":\"SrcAddr\",\"SrcAddr\":\"DstAddr\"})#Aristas dst a src\n",
    "        df = pd.concat([df21,df22], axis=0)\n",
    "        df=df.reset_index(drop=True)\n",
    "        df.drop(df[df[\"Bytes\"]==0].index,inplace=True, axis=0)#Edges with weight=0 removed\n",
    "        df=df.reset_index(drop=True)\n",
    "\n",
    "        g = ig.Graph.DataFrame(df,directed=True)\n",
    "\n",
    "        g.write_ncol(\"../../data/ncol/\"+ctuName+\".ncol\", names=\"name\", weights='Bytes')\n",
    "        print(ctuName+\".ncol\"+\" done\")\n",
    "\n",
    "\n",
    "\n",
    "\n"
   ]
  },
  {
   "cell_type": "code",
   "execution_count": null,
   "id": "fd90e651",
   "metadata": {},
   "outputs": [],
   "source": []
  }
 ],
 "metadata": {
  "kernelspec": {
   "display_name": "Python 3",
   "language": "python",
   "name": "python3"
  },
  "language_info": {
   "codemirror_mode": {
    "name": "ipython",
    "version": 3
   },
   "file_extension": ".py",
   "mimetype": "text/x-python",
   "name": "python",
   "nbconvert_exporter": "python",
   "pygments_lexer": "ipython3",
   "version": "3.8.8"
  }
 },
 "nbformat": 4,
 "nbformat_minor": 5
}
